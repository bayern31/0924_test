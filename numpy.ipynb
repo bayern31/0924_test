{
 "cells": [
  {
   "cell_type": "markdown",
   "id": "ea489e8a-00f6-47ad-9de8-f8b32ac2e6df",
   "metadata": {},
   "source": [
    "# 라이브러리 설치"
   ]
  },
  {
   "cell_type": "code",
   "execution_count": 1,
   "id": "7fd0416d-59d4-4ea7-8035-bcf2f7700eb3",
   "metadata": {},
   "outputs": [
    {
     "name": "stdout",
     "output_type": "stream",
     "text": [
      "Requirement already satisfied: numpy in c:\\0924_test\\venv\\lib\\site-packages (2.1.1)\n"
     ]
    }
   ],
   "source": [
    "!pip install numpy"
   ]
  },
  {
   "cell_type": "code",
   "execution_count": 2,
   "id": "d88dfb70-76fb-400a-8d0c-bc7ee066f0e1",
   "metadata": {},
   "outputs": [
    {
     "name": "stdout",
     "output_type": "stream",
     "text": [
      "2.1.1\n"
     ]
    }
   ],
   "source": [
    "import numpy as np\n",
    "\n",
    "print(np.__version__)"
   ]
  },
  {
   "cell_type": "code",
   "execution_count": 5,
   "id": "ee4821a8-c2b0-4400-be6a-f5fb2c30eb3d",
   "metadata": {},
   "outputs": [],
   "source": [
    "#help(np) #잘 모르면 써먹자"
   ]
  },
  {
   "cell_type": "code",
   "execution_count": 7,
   "id": "d91d94d3-9bcf-4efd-bf9b-5add849014c4",
   "metadata": {},
   "outputs": [
    {
     "data": {
      "text/plain": [
       "[1, 2, 3, 4, 5, 6]"
      ]
     },
     "execution_count": 7,
     "metadata": {},
     "output_type": "execute_result"
    }
   ],
   "source": [
    "num1 = [1, 2, 3]\n",
    "num2 = [4, 5, 6]\n",
    "\n",
    "num1 + num2 #원하던 결과값: [5, 7, 9]"
   ]
  },
  {
   "cell_type": "code",
   "execution_count": 9,
   "id": "df3e0b86-8ce2-4c8c-b291-3a14db9951ab",
   "metadata": {},
   "outputs": [
    {
     "name": "stdout",
     "output_type": "stream",
     "text": [
      "[5 7 9]\n"
     ]
    }
   ],
   "source": [
    "import numpy as np\n",
    "\n",
    "num1 = np.array([1, 2, 3])\n",
    "num2 = np.array([4, 5, 6])\n",
    "\n",
    "result = num1 + num2\n",
    "print(result)"
   ]
  },
  {
   "cell_type": "code",
   "execution_count": 25,
   "id": "fa7d8a8d-b7d2-4930-ae3c-2e1e77104c4b",
   "metadata": {},
   "outputs": [],
   "source": [
    "num1_arr = np.array([1, 2, 3])"
   ]
  },
  {
   "cell_type": "code",
   "execution_count": 26,
   "id": "42735a6d-a3f6-4980-9575-afe94212242e",
   "metadata": {},
   "outputs": [
    {
     "data": {
      "text/plain": [
       "array([1, 2, 3])"
      ]
     },
     "execution_count": 26,
     "metadata": {},
     "output_type": "execute_result"
    }
   ],
   "source": [
    "num1_arr.T"
   ]
  },
  {
   "cell_type": "code",
   "execution_count": 27,
   "id": "ce262b89-5ce4-4215-ba58-4d0a930f589e",
   "metadata": {},
   "outputs": [
    {
     "data": {
      "text/plain": [
       "np.int64(3)"
      ]
     },
     "execution_count": 27,
     "metadata": {},
     "output_type": "execute_result"
    }
   ],
   "source": [
    "num1_arr.max()"
   ]
  },
  {
   "cell_type": "code",
   "execution_count": 28,
   "id": "d4cf44c9-dfe3-4595-824c-083588b1dc2d",
   "metadata": {},
   "outputs": [
    {
     "name": "stdout",
     "output_type": "stream",
     "text": [
      "[1 2 3]\n",
      "[[1 2 3]\n",
      " [4 5 6]]\n"
     ]
    }
   ],
   "source": [
    "import numpy as np\n",
    "\n",
    "# 1차원 배열 생성\n",
    "arr1 = np.array([1, 2, 3])\n",
    "\n",
    "# 2차원 배열 생성\n",
    "arr2 = np.array([[1, 2, 3], [4, 5, 6]])\n",
    "\n",
    "# 출력\n",
    "print(arr1)\n",
    "print(arr2)"
   ]
  },
  {
   "cell_type": "markdown",
   "id": "2214ed00-5c86-43e8-8e45-bf824df30987",
   "metadata": {},
   "source": [
    "# 배열 만드는 방법"
   ]
  },
  {
   "cell_type": "code",
   "execution_count": 29,
   "id": "36e34eb6-7f05-4601-8478-0a5bf7d37b72",
   "metadata": {},
   "outputs": [
    {
     "name": "stdout",
     "output_type": "stream",
     "text": [
      "[1. 1. 1.]\n"
     ]
    }
   ],
   "source": [
    "# 기본적으로 다른 데이터 자료형으로 numpy 배열로 변환\n",
    "# 배열 생성\n",
    "print(np.ones(3))"
   ]
  },
  {
   "cell_type": "markdown",
   "id": "875b6c62-93a2-4d63-af54-375f59c84ef5",
   "metadata": {},
   "source": [
    "# 배열의 차원을 변경"
   ]
  },
  {
   "cell_type": "code",
   "execution_count": null,
   "id": "d6ba6c93-cc86-4848-8ceb-9d37c43a05c9",
   "metadata": {},
   "outputs": [],
   "source": []
  },
  {
   "cell_type": "code",
   "execution_count": 33,
   "id": "ad96d238-527c-4dcf-a7d6-fe41d4ca9ae8",
   "metadata": {},
   "outputs": [
    {
     "name": "stdout",
     "output_type": "stream",
     "text": [
      "[1 2 3]\n",
      "[[1 2 3]\n",
      " [4 5 6]]\n"
     ]
    }
   ],
   "source": [
    "import numpy as np\n",
    "arr1 = np.array([1, 2, 3])\n",
    "arr2 = np.array([[1, 2, 3], [4, 5, 6]])\n",
    "\n",
    "print(arr1)\n",
    "print(arr2)"
   ]
  },
  {
   "cell_type": "code",
   "execution_count": 34,
   "id": "0662ef19-40da-454e-8dec-9533a0894393",
   "metadata": {},
   "outputs": [
    {
     "name": "stdout",
     "output_type": "stream",
     "text": [
      "2\n"
     ]
    }
   ],
   "source": [
    "print(arr2.ndim)"
   ]
  },
  {
   "cell_type": "code",
   "execution_count": 35,
   "id": "6a61e8f3-8e35-4377-860f-f4bc622154fe",
   "metadata": {},
   "outputs": [
    {
     "name": "stdout",
     "output_type": "stream",
     "text": [
      "(2, 3)\n"
     ]
    }
   ],
   "source": [
    "print(arr2.shape)"
   ]
  },
  {
   "cell_type": "code",
   "execution_count": 38,
   "id": "f0bc0e12-0931-4fb5-8485-0acded5b3d4c",
   "metadata": {},
   "outputs": [
    {
     "name": "stdout",
     "output_type": "stream",
     "text": [
      "(3,)\n"
     ]
    }
   ],
   "source": [
    "print(arr1.shape)"
   ]
  },
  {
   "cell_type": "code",
   "execution_count": 40,
   "id": "af50d0cf-350d-41b9-874c-62391ceb8b58",
   "metadata": {},
   "outputs": [
    {
     "name": "stdout",
     "output_type": "stream",
     "text": [
      "6\n"
     ]
    }
   ],
   "source": [
    "print(arr2.size)"
   ]
  },
  {
   "cell_type": "code",
   "execution_count": 41,
   "id": "0c5f0312-db24-4ac3-9daa-30695fd0638d",
   "metadata": {},
   "outputs": [
    {
     "name": "stdout",
     "output_type": "stream",
     "text": [
      "3\n"
     ]
    }
   ],
   "source": [
    "print(arr1.size)"
   ]
  },
  {
   "cell_type": "code",
   "execution_count": 43,
   "id": "42e56b83-df00-4c94-9188-a58a04227a0a",
   "metadata": {},
   "outputs": [
    {
     "name": "stdout",
     "output_type": "stream",
     "text": [
      "int64\n"
     ]
    }
   ],
   "source": [
    "print(arr2.dtype)"
   ]
  },
  {
   "cell_type": "code",
   "execution_count": 64,
   "id": "47c7839d-b34e-4d27-884e-9e0003f8f793",
   "metadata": {},
   "outputs": [],
   "source": [
    "arr1 = np.array([1, 2, 3])\n",
    "arr2 = np.array([4, 5, 6])\n",
    "\n",
    "# 배열의 덧셈\n",
    "sum_arr = arr1 + arr2  # [5, 7, 9]\n",
    "\n",
    "# 배열의 곱셈\n",
    "prod_arr = arr1 * arr2  # [4, 10, 18]\n",
    "\n",
    "# 배열의 나눗셈\n",
    "div_arr = arr2 / arr1  # [4.0, 2.5, 2.0]"
   ]
  },
  {
   "cell_type": "code",
   "execution_count": 62,
   "id": "82e5aeed-315e-41b3-9d16-2fcce4caec32",
   "metadata": {},
   "outputs": [],
   "source": [
    "arr = np.array([[1, 2, 3], [4, 5, 6]])\n",
    "\n",
    "# 배열 전체의 합계\n",
    "sum_arr = np.sum(arr)  # 21\n",
    "\n",
    "# 배열의 각 열에 대한 합계\n",
    "col_sum = np.sum(arr, axis=0)  # [5, 7, 9]\n",
    "\n",
    "# 배열의 평균\n",
    "mean_arr = np.mean(arr)  # 3.5\n",
    "\n",
    "# 배열의 표준 편차\n",
    "std_arr = np.std(arr)  # 1.707825127659933"
   ]
  },
  {
   "cell_type": "code",
   "execution_count": null,
   "id": "52cdc453-6963-4905-9fc0-17788f596ea7",
   "metadata": {},
   "outputs": [],
   "source": []
  },
  {
   "cell_type": "code",
   "execution_count": null,
   "id": "ddf0f057-9f4b-4db1-8a06-94a3d5d77068",
   "metadata": {},
   "outputs": [],
   "source": []
  },
  {
   "cell_type": "code",
   "execution_count": 42,
   "id": "41e9fd9d-3a2d-4f62-8c65-b4f9ebf78dd2",
   "metadata": {},
   "outputs": [
    {
     "name": "stdout",
     "output_type": "stream",
     "text": [
      "[1.333]\n",
      "[1.333333]\n"
     ]
    }
   ],
   "source": [
    "a16 = np.array([1.333333], dtype = np.float16)\n",
    "a32 = np.array([1.333333], dtype = np.float32)\n",
    "\n",
    "print(a16)\n",
    "print(a32)"
   ]
  },
  {
   "cell_type": "code",
   "execution_count": 44,
   "id": "0eeb80e6-8f3f-45af-a902-4f5d0c5d505c",
   "metadata": {},
   "outputs": [
    {
     "name": "stderr",
     "output_type": "stream",
     "text": [
      "C:\\Users\\dndtn\\AppData\\Local\\Temp\\ipykernel_18448\\3465403327.py:2: RuntimeWarning: divide by zero encountered in divide\n",
      "  arr/0\n"
     ]
    },
    {
     "data": {
      "text/plain": [
       "array([-inf,  inf, -inf])"
      ]
     },
     "execution_count": 44,
     "metadata": {},
     "output_type": "execute_result"
    }
   ],
   "source": [
    "arr = np.array([-1, 2, -3])\n",
    "arr/0"
   ]
  },
  {
   "cell_type": "markdown",
   "id": "ba1b6c78-e697-4207-ae25-e0b295b4d1cb",
   "metadata": {},
   "source": [
    "## 결측치\n",
    "- Missing Values : 잃어버린 값\n",
    "- nan : Not a Number --> 아직 정의되지 않은 숫자 의미"
   ]
  },
  {
   "cell_type": "code",
   "execution_count": 49,
   "id": "df501b59-d305-4625-a33b-d9d13435add8",
   "metadata": {},
   "outputs": [
    {
     "name": "stdout",
     "output_type": "stream",
     "text": [
      "nan <class 'float'>\n"
     ]
    }
   ],
   "source": [
    "print(np.nan, type(np.nan))"
   ]
  },
  {
   "cell_type": "code",
   "execution_count": 50,
   "id": "2ce3e551-e11f-4d0a-ab7d-6409d0baecfe",
   "metadata": {},
   "outputs": [
    {
     "name": "stdout",
     "output_type": "stream",
     "text": [
      "nan <class 'float'>\n"
     ]
    }
   ],
   "source": [
    "print(np.nan, type(np.inf))"
   ]
  },
  {
   "cell_type": "code",
   "execution_count": 65,
   "id": "4f2d936f-97c8-4853-8b80-0c5b28277e4e",
   "metadata": {},
   "outputs": [],
   "source": [
    "# 인덱싱 & 슬라이싱"
   ]
  },
  {
   "cell_type": "code",
   "execution_count": 67,
   "id": "a6088ff3-ee63-4fd3-beb9-1c8c002b9e7c",
   "metadata": {},
   "outputs": [
    {
     "data": {
      "text/plain": [
       "array([1, 2, 3, 4])"
      ]
     },
     "execution_count": 67,
     "metadata": {},
     "output_type": "execute_result"
    }
   ],
   "source": [
    "arr = np.arange(10)\n",
    "arr[1:5]"
   ]
  },
  {
   "cell_type": "code",
   "execution_count": 69,
   "id": "7d57c189-c52f-4c21-b312-997b643ba9b6",
   "metadata": {},
   "outputs": [
    {
     "data": {
      "text/plain": [
       "np.int64(1)"
      ]
     },
     "execution_count": 69,
     "metadata": {},
     "output_type": "execute_result"
    }
   ],
   "source": [
    "arr = np.arange(10).reshape(2,5)\n",
    "arr[0][1]"
   ]
  },
  {
   "cell_type": "code",
   "execution_count": 70,
   "id": "9c1af2e6-8253-4fc4-8850-66f38f53083d",
   "metadata": {},
   "outputs": [
    {
     "data": {
      "text/plain": [
       "array([[ 0,  1,  2,  3,  4,  5,  6,  7,  8,  9, 10, 11, 12, 13, 14, 15,\n",
       "        16, 17, 18, 19, 20, 21, 22, 23, 24, 25, 26, 27, 28, 29, 30, 31,\n",
       "        32, 33, 34, 35, 36, 37, 38, 39, 40, 41, 42, 43, 44, 45, 46, 47,\n",
       "        48, 49, 50, 51, 52, 53, 54, 55, 56, 57, 58, 59, 60, 61, 62, 63,\n",
       "        64, 65, 66, 67, 68, 69, 70, 71, 72, 73, 74, 75, 76, 77, 78, 79,\n",
       "        80, 81, 82, 83, 84, 85, 86, 87, 88, 89, 90, 91, 92, 93, 94, 95,\n",
       "        96, 97, 98, 99]])"
      ]
     },
     "execution_count": 70,
     "metadata": {},
     "output_type": "execute_result"
    }
   ],
   "source": [
    "arr = np.arange(10000).reshape(100,100)\n",
    "arr[0:4][0:1]"
   ]
  },
  {
   "cell_type": "code",
   "execution_count": 82,
   "id": "07bd5f72-2d2d-428e-8218-5d8b01e5b85e",
   "metadata": {},
   "outputs": [
    {
     "data": {
      "text/plain": [
       "array([], shape=(0, 0), dtype=int64)"
      ]
     },
     "execution_count": 82,
     "metadata": {},
     "output_type": "execute_result"
    }
   ],
   "source": [
    "arr = np.arange(20).reshape(4, 5)\n",
    "arr[7:, 6:]"
   ]
  },
  {
   "cell_type": "code",
   "execution_count": 83,
   "id": "614f91fa-c6b1-4643-b4e0-f3ac3b14e9c5",
   "metadata": {},
   "outputs": [
    {
     "name": "stdout",
     "output_type": "stream",
     "text": [
      "[ 7  8  9 10 11 12 13 14 15]\n"
     ]
    }
   ],
   "source": [
    "import numpy as np\n",
    "\n",
    "# 100x100 배열 생성\n",
    "arr = np.arange(10000).reshape(100, 100)\n",
    "\n",
    "# 필요한 값만 슬라이싱\n",
    "result = arr[0, 7:16]\n",
    "print(result)"
   ]
  },
  {
   "cell_type": "markdown",
   "id": "07172e91-1e03-43e2-afc5-7fe8b75c9d6a",
   "metadata": {},
   "source": [
    "## 브로드캐스팅 연산"
   ]
  },
  {
   "cell_type": "code",
   "execution_count": 85,
   "id": "30337ece-f111-4afc-a092-b433bc841986",
   "metadata": {},
   "outputs": [
    {
     "data": {
      "text/plain": [
       "array([4., 5., 6.])"
      ]
     },
     "execution_count": 85,
     "metadata": {},
     "output_type": "execute_result"
    }
   ],
   "source": [
    "a = np.array([1, 2, 3])\n",
    "b = 3.0\n",
    "a + b"
   ]
  },
  {
   "cell_type": "code",
   "execution_count": 121,
   "id": "91477436-78b1-4796-898b-2d41413bac03",
   "metadata": {},
   "outputs": [],
   "source": [
    "import numpy as np\n",
    "\n",
    "arr = np.arange(25).reshape(5,5)"
   ]
  },
  {
   "cell_type": "code",
   "execution_count": 114,
   "id": "369e0ce9-4875-4d2a-adcf-daa45ec757ae",
   "metadata": {},
   "outputs": [
    {
     "data": {
      "text/plain": [
       "array([[0., 0., 0., 0., 0.],\n",
       "       [0., 0., 0., 0., 0.],\n",
       "       [0., 0., 0., 0., 0.],\n",
       "       [0., 0., 0., 0., 0.],\n",
       "       [0., 0., 0., 0., 0.]])"
      ]
     },
     "execution_count": 114,
     "metadata": {},
     "output_type": "execute_result"
    }
   ],
   "source": [
    "np.zeros((5,5))"
   ]
  },
  {
   "cell_type": "code",
   "execution_count": 118,
   "id": "7b1956ea-4aef-4bfd-b1f9-487985ba5aae",
   "metadata": {},
   "outputs": [],
   "source": [
    "import numpy as np\n",
    "\n",
    "arr1 = np.arange(9).reshape(3, 3)"
   ]
  },
  {
   "cell_type": "code",
   "execution_count": 122,
   "id": "31084c6b-fee8-4f96-8335-0eec7b7eb98c",
   "metadata": {},
   "outputs": [],
   "source": [
    "arr = np.zeros((3,3))"
   ]
  },
  {
   "cell_type": "code",
   "execution_count": 130,
   "id": "bde430e0-90f4-4475-857a-322c048b2db3",
   "metadata": {},
   "outputs": [
    {
     "data": {
      "text/plain": [
       "array([[ 5,  6],\n",
       "       [ 9, 10]])"
      ]
     },
     "execution_count": 130,
     "metadata": {},
     "output_type": "execute_result"
    }
   ],
   "source": [
    "arr = np.arange(16).reshape(4,4)\n",
    "arr[1:3,1:3]"
   ]
  },
  {
   "cell_type": "markdown",
   "id": "10f46285-a719-486f-aca0-8ed6dab7cdbf",
   "metadata": {},
   "source": [
    "## 조건 연산\n",
    "- 원하는 결과값: True/False"
   ]
  },
  {
   "cell_type": "code",
   "execution_count": 133,
   "id": "944a6145-4948-4c7c-996d-1491dace2afb",
   "metadata": {},
   "outputs": [
    {
     "data": {
      "text/plain": [
       "array([False,  True,  True])"
      ]
     },
     "execution_count": 133,
     "metadata": {},
     "output_type": "execute_result"
    }
   ],
   "source": [
    "arr = np.array([10, 20, 30])\n",
    "arr > 10"
   ]
  },
  {
   "cell_type": "code",
   "execution_count": 137,
   "id": "2dc60f20-96b7-4abe-a6d6-30e79265c77a",
   "metadata": {},
   "outputs": [
    {
     "data": {
      "text/plain": [
       "array([20, 30])"
      ]
     },
     "execution_count": 137,
     "metadata": {},
     "output_type": "execute_result"
    }
   ],
   "source": [
    "arr = np.array([10, 20, 30])\n",
    "cond = [False,  True,  True]\n",
    "\n",
    "arr[cond]"
   ]
  },
  {
   "cell_type": "code",
   "execution_count": 138,
   "id": "afa35fcb-b851-4404-a4f9-95785ac68fdc",
   "metadata": {},
   "outputs": [
    {
     "data": {
      "text/plain": [
       "array([20, 50, 30])"
      ]
     },
     "execution_count": 138,
     "metadata": {},
     "output_type": "execute_result"
    }
   ],
   "source": [
    "arr = np.array([18, 20, 50, 30, 16])\n",
    "cond = arr > 18\n",
    "\n",
    "arr[cond]"
   ]
  },
  {
   "cell_type": "code",
   "execution_count": 148,
   "id": "ef286cd4-c854-43ae-972a-52359ec30c7b",
   "metadata": {},
   "outputs": [
    {
     "data": {
      "text/plain": [
       "array([20, 50, 30])"
      ]
     },
     "execution_count": 148,
     "metadata": {},
     "output_type": "execute_result"
    }
   ],
   "source": [
    "arr = np.array([18, 20, 50, 30, 16, 65, 70])\n",
    "cond0 = arr > 18\n",
    "cond1 = arr < 65\n",
    "\n",
    "arr[cond0 & cond1]"
   ]
  },
  {
   "cell_type": "code",
   "execution_count": 147,
   "id": "fa42756e-f036-4c31-84f3-15a52e56c772",
   "metadata": {},
   "outputs": [
    {
     "data": {
      "text/plain": [
       "array([18, 20, 50, 30, 16, 65, 70])"
      ]
     },
     "execution_count": 147,
     "metadata": {},
     "output_type": "execute_result"
    }
   ],
   "source": [
    "arr[cond0 |cond1]"
   ]
  },
  {
   "cell_type": "code",
   "execution_count": 149,
   "id": "d06b1c74-afe0-4143-a846-6bc61816d4b9",
   "metadata": {},
   "outputs": [
    {
     "data": {
      "text/plain": [
       "array([18, 20, 50, 30, 16, 65, 70])"
      ]
     },
     "execution_count": 149,
     "metadata": {},
     "output_type": "execute_result"
    }
   ],
   "source": [
    "# 권장사항, 이유: pandas 다중조건 필터링할 때는 아래방법으로만 가능\n",
    "arr[(cond0 |cond1)]"
   ]
  },
  {
   "cell_type": "code",
   "execution_count": 151,
   "id": "f17f4538-6dda-434d-8ee2-950fe1778923",
   "metadata": {},
   "outputs": [
    {
     "data": {
      "text/plain": [
       "array([1, 2, 3])"
      ]
     },
     "execution_count": 151,
     "metadata": {},
     "output_type": "execute_result"
    }
   ],
   "source": [
    "np.where(a < 5, a, 10*a)"
   ]
  },
  {
   "cell_type": "markdown",
   "id": "46e69d3a-ed51-4f3d-b01c-20fb289cdc8a",
   "metadata": {},
   "source": [
    "## 함수와 메서드"
   ]
  },
  {
   "cell_type": "code",
   "execution_count": 152,
   "id": "26a374fc-d29f-40ae-a156-9c13890c36cd",
   "metadata": {},
   "outputs": [
    {
     "data": {
      "text/plain": [
       "np.int64(28)"
      ]
     },
     "execution_count": 152,
     "metadata": {},
     "output_type": "execute_result"
    }
   ],
   "source": [
    "arr = np.arange(8).reshape(4, 2)\n",
    "arr.sum()"
   ]
  },
  {
   "cell_type": "code",
   "execution_count": 153,
   "id": "2600f3c2-cc8a-4864-9c1d-c076cd4caf49",
   "metadata": {},
   "outputs": [
    {
     "data": {
      "text/plain": [
       "array([12, 16])"
      ]
     },
     "execution_count": 153,
     "metadata": {},
     "output_type": "execute_result"
    }
   ],
   "source": [
    "arr.sum(axis = 0)"
   ]
  },
  {
   "cell_type": "code",
   "execution_count": 154,
   "id": "a4c80462-760c-4287-a870-eb210c7de0b5",
   "metadata": {},
   "outputs": [
    {
     "data": {
      "text/plain": [
       "array([ 1,  5,  9, 13])"
      ]
     },
     "execution_count": 154,
     "metadata": {},
     "output_type": "execute_result"
    }
   ],
   "source": [
    "arr.sum(axis = 1)"
   ]
  },
  {
   "cell_type": "code",
   "execution_count": 165,
   "id": "366960d3-f3ef-4cee-b7e5-862f1bbeb80e",
   "metadata": {},
   "outputs": [
    {
     "data": {
      "text/plain": [
       "4"
      ]
     },
     "execution_count": 165,
     "metadata": {},
     "output_type": "execute_result"
    }
   ],
   "source": [
    "# 랜덤 함수 만들기\n",
    "np.random.randint(10)"
   ]
  },
  {
   "cell_type": "code",
   "execution_count": 162,
   "id": "6b049592-d4d4-4a62-ae66-ae8efd379e8e",
   "metadata": {},
   "outputs": [
    {
     "data": {
      "text/plain": [
       "6"
      ]
     },
     "execution_count": 162,
     "metadata": {},
     "output_type": "execute_result"
    }
   ],
   "source": [
    "np.random.seed(42) # 머신러닝에서 자주 씀\n",
    "np.random.randint(10)"
   ]
  },
  {
   "cell_type": "code",
   "execution_count": 166,
   "id": "40f56f67-a55f-4aa7-80bf-0bf6be30e985",
   "metadata": {},
   "outputs": [
    {
     "data": {
      "text/plain": [
       "array([38, 18, 22, 10, 10, 23], dtype=int32)"
      ]
     },
     "execution_count": 166,
     "metadata": {},
     "output_type": "execute_result"
    }
   ],
   "source": [
    "np.random.randint(46, size = 6)"
   ]
  },
  {
   "cell_type": "code",
   "execution_count": 167,
   "id": "a437b8ab-4b3b-47c9-a394-9f654c46bb34",
   "metadata": {},
   "outputs": [
    {
     "data": {
      "text/plain": [
       "array([[35, 39, 23,  2],\n",
       "       [21,  1, 23, 43],\n",
       "       [29, 37,  1, 20]], dtype=int32)"
      ]
     },
     "execution_count": 167,
     "metadata": {},
     "output_type": "execute_result"
    }
   ],
   "source": [
    "np.random.randint(46, size = (3,4))"
   ]
  },
  {
   "cell_type": "code",
   "execution_count": 170,
   "id": "912b4bc3-2755-43c8-b14f-ccd79a0ca246",
   "metadata": {},
   "outputs": [
    {
     "name": "stdout",
     "output_type": "stream",
     "text": [
      "[  0.  10.  20.  30.  40.  50.  60.  70.  80.  90. 100.]\n"
     ]
    }
   ],
   "source": [
    "x = np.linspace(0, 100, 11)\n",
    "print(x)"
   ]
  },
  {
   "cell_type": "code",
   "execution_count": null,
   "id": "87c8e4f4-9c4c-4eeb-80f0-958f396e16d3",
   "metadata": {
    "editable": true,
    "slideshow": {
     "slide_type": ""
    },
    "tags": []
   },
   "outputs": [],
   "source": []
  }
 ],
 "metadata": {
  "kernelspec": {
   "display_name": "Python 3 (ipykernel)",
   "language": "python",
   "name": "python3"
  },
  "language_info": {
   "codemirror_mode": {
    "name": "ipython",
    "version": 3
   },
   "file_extension": ".py",
   "mimetype": "text/x-python",
   "name": "python",
   "nbconvert_exporter": "python",
   "pygments_lexer": "ipython3",
   "version": "3.12.6"
  }
 },
 "nbformat": 4,
 "nbformat_minor": 5
}
