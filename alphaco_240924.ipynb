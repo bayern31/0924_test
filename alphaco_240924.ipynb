{
 "cells": [
  {
   "cell_type": "markdown",
   "id": "7c19dbd2-bb5e-43a6-81cc-fd717c956cd3",
   "metadata": {},
   "source": [
    "대제목"
   ]
  },
  {
   "cell_type": "code",
   "execution_count": 2,
   "id": "de32c396-6321-4dca-890e-02716cf145bb",
   "metadata": {},
   "outputs": [
    {
     "data": {
      "text/plain": [
       "2"
      ]
     },
     "execution_count": 2,
     "metadata": {},
     "output_type": "execute_result"
    }
   ],
   "source": [
    "1+1"
   ]
  },
  {
   "cell_type": "code",
   "execution_count": null,
   "id": "05c0d0ba-5724-40b3-934b-e1cb98ba2d90",
   "metadata": {},
   "outputs": [],
   "source": []
  }
 ],
 "metadata": {
  "kernelspec": {
   "display_name": "Python 3 (ipykernel)",
   "language": "python",
   "name": "python3"
  },
  "language_info": {
   "codemirror_mode": {
    "name": "ipython",
    "version": 3
   },
   "file_extension": ".py",
   "mimetype": "text/x-python",
   "name": "python",
   "nbconvert_exporter": "python",
   "pygments_lexer": "ipython3",
   "version": "3.12.6"
  }
 },
 "nbformat": 4,
 "nbformat_minor": 5
}
