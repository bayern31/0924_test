{
 "cells": [
  {
   "cell_type": "code",
   "execution_count": 1,
   "id": "38ee1259-275a-4f24-a13a-fdf8f2c204e5",
   "metadata": {},
   "outputs": [
    {
     "data": {
      "text/plain": [
       "'2.2.3'"
      ]
     },
     "execution_count": 1,
     "metadata": {},
     "output_type": "execute_result"
    }
   ],
   "source": [
    "import pandas as pd\n",
    "pd.__version__"
   ]
  },
  {
   "cell_type": "code",
   "execution_count": 2,
   "id": "2e34aad1-4771-4a5e-af2f-43f4b7103fce",
   "metadata": {},
   "outputs": [
    {
     "name": "stdout",
     "output_type": "stream",
     "text": [
      "Series from list:\n",
      " 0    10\n",
      "1    20\n",
      "2    30\n",
      "3    40\n",
      "4    50\n",
      "dtype: int64\n",
      "\n",
      "Series from dictionary:\n",
      " a    100\n",
      "b    200\n",
      "c    300\n",
      "dtype: int64\n",
      "\n",
      "Series with custom index:\n",
      " x     5\n",
      "y    10\n",
      "z    15\n",
      "dtype: int64\n"
     ]
    }
   ],
   "source": [
    "import pandas as pd\n",
    "\n",
    "# 리스트로 Series 생성\n",
    "data_list = [10, 20, 30, 40, 50]\n",
    "series1 = pd.Series(data_list)\n",
    "print(\"Series from list:\\n\", series1)\n",
    "\n",
    "# 딕셔너리로 Series 생성\n",
    "data_dict = {'a': 100, 'b': 200, 'c': 300}\n",
    "series2 = pd.Series(data_dict)\n",
    "print(\"\\nSeries from dictionary:\\n\", series2)\n",
    "\n",
    "# 사용자 정의 인덱스를 사용하는 Series 생성\n",
    "custom_index_series = pd.Series([5, 10, 15], index=['x', 'y', 'z'])\n",
    "print(\"\\nSeries with custom index:\\n\", custom_index_series)"
   ]
  },
  {
   "cell_type": "code",
   "execution_count": null,
   "id": "eb7b8825-dd75-4849-8a48-dc2e2376acb7",
   "metadata": {},
   "outputs": [],
   "source": []
  }
 ],
 "metadata": {
  "kernelspec": {
   "display_name": "Python 3 (ipykernel)",
   "language": "python",
   "name": "python3"
  },
  "language_info": {
   "codemirror_mode": {
    "name": "ipython",
    "version": 3
   },
   "file_extension": ".py",
   "mimetype": "text/x-python",
   "name": "python",
   "nbconvert_exporter": "python",
   "pygments_lexer": "ipython3",
   "version": "3.12.6"
  }
 },
 "nbformat": 4,
 "nbformat_minor": 5
}
