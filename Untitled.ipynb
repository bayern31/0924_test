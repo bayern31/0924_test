{
 "cells": [
  {
   "cell_type": "code",
   "execution_count": 1,
   "id": "88cfaa1b-d927-46cf-8b4f-12dadf02969e",
   "metadata": {},
   "outputs": [
    {
     "name": "stdout",
     "output_type": "stream",
     "text": [
      "False\n"
     ]
    }
   ],
   "source": [
    "print(False)"
   ]
  },
  {
   "cell_type": "code",
   "execution_count": 2,
   "id": "be17a4c9-bcf6-42dc-b913-daf1562a375f",
   "metadata": {},
   "outputs": [
    {
     "data": {
      "text/plain": [
       "bool"
      ]
     },
     "execution_count": 2,
     "metadata": {},
     "output_type": "execute_result"
    }
   ],
   "source": [
    "type(True)"
   ]
  },
  {
   "cell_type": "code",
   "execution_count": 4,
   "id": "a7d23739-a1be-4aef-8555-f3e8089d3b7b",
   "metadata": {},
   "outputs": [
    {
     "name": "stdout",
     "output_type": "stream",
     "text": [
      "True\n",
      "False\n",
      "False\n"
     ]
    }
   ],
   "source": [
    "print(True and True)\n",
    "print(False and True)\n",
    "print(False and False)"
   ]
  },
  {
   "cell_type": "code",
   "execution_count": 5,
   "id": "4bdf3e13-3b64-424d-9118-4b0198411f3f",
   "metadata": {},
   "outputs": [
    {
     "name": "stdout",
     "output_type": "stream",
     "text": [
      "True\n",
      "True\n",
      "False\n"
     ]
    }
   ],
   "source": [
    "print(True or True)\n",
    "print(False or True)\n",
    "print(False or False)"
   ]
  },
  {
   "cell_type": "markdown",
   "id": "f4a2d528-e504-432d-ba9b-91d19009570d",
   "metadata": {},
   "source": [
    "# 입력과 출력\n",
    "-입력 : input()"
   ]
  },
  {
   "cell_type": "code",
   "execution_count": 7,
   "id": "9d10859e-fb20-424c-bd26-675c81bd8a4f",
   "metadata": {},
   "outputs": [
    {
     "name": "stdin",
     "output_type": "stream",
     "text": [
      "임의의 값을 읿력하세요 5\n"
     ]
    },
    {
     "name": "stdout",
     "output_type": "stream",
     "text": [
      "5\n"
     ]
    }
   ],
   "source": [
    "x = input(\"임의의 값을 읿력하세요\")\n",
    "print(x)"
   ]
  },
  {
   "cell_type": "markdown",
   "id": "50b5f284-52e6-47b9-88c0-bcd6c2532cd8",
   "metadata": {},
   "source": [
    "## 데이터 형변환\n",
    "- 문자를 숫자로, 숫자를 문자로, A 자료형에서 D 자료형으로\n",
    "- 대부분이 클래스 or 함수를 활용해서 형변환"
   ]
  },
  {
   "cell_type": "code",
   "execution_count": 10,
   "id": "60e148ea-c5ba-441c-bdd6-07a8ee7cdfdd",
   "metadata": {},
   "outputs": [
    {
     "name": "stdin",
     "output_type": "stream",
     "text": [
      "임의의 숫자를 입력하세요 1\n",
      "임의의 숫자를 입력하세요 1\n"
     ]
    },
    {
     "name": "stdout",
     "output_type": "stream",
     "text": [
      "<class 'int'> <class 'int'>\n",
      "2\n"
     ]
    }
   ],
   "source": [
    "x = int(input(\"임의의 숫자를 입력하세요\"))\n",
    "y = int(input(\"임의의 숫자를 입력하세요\"))\n",
    "\n",
    "print(type(x), type(y))\n",
    "print(x + y)"
   ]
  },
  {
   "cell_type": "code",
   "execution_count": 11,
   "id": "b8b5a1c0-8688-4123-97a6-637403e39263",
   "metadata": {},
   "outputs": [
    {
     "name": "stdin",
     "output_type": "stream",
     "text": [
      "임의의 숫자를 입력하세요 1\n",
      "임의의 숫자를 입력하세요 1\n"
     ]
    },
    {
     "name": "stdout",
     "output_type": "stream",
     "text": [
      "<class 'float'> <class 'float'>\n",
      "2.0\n"
     ]
    }
   ],
   "source": [
    "x = float(input(\"임의의 숫자를 입력하세요\"))\n",
    "y = float(input(\"임의의 숫자를 입력하세요\"))\n",
    "\n",
    "print(type(x), type(y))\n",
    "print(x + y)"
   ]
  },
  {
   "cell_type": "code",
   "execution_count": 12,
   "id": "586f8e76-d285-4081-b4f6-52b8a9c80145",
   "metadata": {},
   "outputs": [
    {
     "data": {
      "text/plain": [
       "3"
      ]
     },
     "execution_count": 12,
     "metadata": {},
     "output_type": "execute_result"
    }
   ],
   "source": [
    "a = '3.3'\n",
    "int(float(a))"
   ]
  },
  {
   "cell_type": "markdown",
   "id": "7cf42d33-8d29-49d1-b9c3-081010524a57",
   "metadata": {},
   "source": [
    "# String"
   ]
  },
  {
   "cell_type": "code",
   "execution_count": 13,
   "id": "a07f935f-6e92-4822-8016-9ed10cbee216",
   "metadata": {},
   "outputs": [
    {
     "name": "stdout",
     "output_type": "stream",
     "text": [
      "abcdefkga\n"
     ]
    }
   ],
   "source": [
    "a = \"abc\"\n",
    "b = 'def'\n",
    "c = \"kga\"\n",
    "\n",
    "result = a + b + c\n",
    "print(result)"
   ]
  },
  {
   "cell_type": "code",
   "execution_count": 14,
   "id": "848e59e7-9f04-42f0-945d-23c8f5a75055",
   "metadata": {},
   "outputs": [
    {
     "data": {
      "text/plain": [
       "'abcdefkgaabcdefkgaabcdefkga'"
      ]
     },
     "execution_count": 14,
     "metadata": {},
     "output_type": "execute_result"
    }
   ],
   "source": [
    "result * 3"
   ]
  },
  {
   "cell_type": "code",
   "execution_count": 18,
   "id": "e74bf6e5-b4bc-4d01-aacb-234ebfecb9c1",
   "metadata": {},
   "outputs": [
    {
     "name": "stdout",
     "output_type": "stream",
     "text": [
      "\n",
      "dadfadf\n",
      "adfadsfs\n",
      "asdfasdf\n",
      "sdafasdf\n",
      "\n"
     ]
    }
   ],
   "source": [
    "a = \"\"\"\n",
    "dadfadf\n",
    "adfadsfs\n",
    "asdfasdf\n",
    "sdafasdf\n",
    "\"\"\"\n",
    "\n",
    "print(a)"
   ]
  },
  {
   "cell_type": "markdown",
   "id": "81d92069-e207-49b6-8dfe-ca321d4930b3",
   "metadata": {},
   "source": [
    "## 문자열 포맷팅\n",
    "- f-string 포맷팅으로 문자열 만들기"
   ]
  },
  {
   "cell_type": "code",
   "execution_count": 19,
   "id": "6ec380b4-47ef-490d-b6e9-4973b1136a15",
   "metadata": {},
   "outputs": [
    {
     "name": "stdout",
     "output_type": "stream",
     "text": [
      "<class 'str'> 안녕하세요, 저는 숫자 1 입니다.\n"
     ]
    }
   ],
   "source": [
    "x = 1\n",
    "a = f'안녕하세요, 저는 숫자 {x} 입니다.'\n",
    "print(type(a), a)"
   ]
  },
  {
   "cell_type": "markdown",
   "id": "18325eee-ee03-4f4c-8681-f16be7814383",
   "metadata": {},
   "source": [
    "## 인덱싱 및 슬라이싱"
   ]
  },
  {
   "cell_type": "code",
   "execution_count": 31,
   "id": "99ebfe27-1f09-4bbd-81da-8efe2764ab5f",
   "metadata": {},
   "outputs": [
    {
     "name": "stdout",
     "output_type": "stream",
     "text": [
      "9\n"
     ]
    }
   ],
   "source": [
    "a = \"123456789\"\n",
    "print(len(a))"
   ]
  },
  {
   "cell_type": "code",
   "execution_count": 32,
   "id": "9323d2a2-e3ad-4569-9360-619ad4b56e27",
   "metadata": {},
   "outputs": [
    {
     "data": {
      "text/plain": [
       "'9'"
      ]
     },
     "execution_count": 32,
     "metadata": {},
     "output_type": "execute_result"
    }
   ],
   "source": [
    "a[8]"
   ]
  },
  {
   "cell_type": "code",
   "execution_count": 33,
   "id": "72472038-d3eb-4ba2-a6b4-24d93d41ecca",
   "metadata": {},
   "outputs": [
    {
     "data": {
      "text/plain": [
       "'9'"
      ]
     },
     "execution_count": 33,
     "metadata": {},
     "output_type": "execute_result"
    }
   ],
   "source": [
    "a[len(a)-1]"
   ]
  },
  {
   "cell_type": "code",
   "execution_count": 34,
   "id": "e2400c89-a9f1-4212-933a-e2aceeb74ae7",
   "metadata": {},
   "outputs": [
    {
     "data": {
      "text/plain": [
       "'9'"
      ]
     },
     "execution_count": 34,
     "metadata": {},
     "output_type": "execute_result"
    }
   ],
   "source": [
    "a[-1]"
   ]
  },
  {
   "cell_type": "markdown",
   "id": "02f676ce-4fc7-4ea4-91f8-5d974b8926d7",
   "metadata": {},
   "source": [
    "## 슬라이싱"
   ]
  },
  {
   "cell_type": "code",
   "execution_count": 37,
   "id": "0b84a92b-4c65-40e7-ba24-c603f3ddea2b",
   "metadata": {},
   "outputs": [
    {
     "name": "stdout",
     "output_type": "stream",
     "text": [
      "123456789\n"
     ]
    }
   ],
   "source": [
    "a = \"123456789\"\n",
    "print(a[0:10])"
   ]
  },
  {
   "cell_type": "code",
   "execution_count": 39,
   "id": "fd65663d-8751-4118-bf35-ded44b09359f",
   "metadata": {},
   "outputs": [
    {
     "name": "stdout",
     "output_type": "stream",
     "text": [
      "13579\n",
      "789\n",
      "123456\n"
     ]
    }
   ],
   "source": [
    "a = \"123456789\"\n",
    "print(a[0:10:2])\n",
    "print(a[6:])\n",
    "print(a[:6])"
   ]
  },
  {
   "cell_type": "markdown",
   "id": "c3d433bd-9aff-4f1e-92e6-9dc5dd113f54",
   "metadata": {},
   "source": [
    "## 문자열 수정"
   ]
  },
  {
   "cell_type": "code",
   "execution_count": 48,
   "id": "254082f4-f1cc-42f2-b55d-b200d9f35a9c",
   "metadata": {},
   "outputs": [
    {
     "name": "stdout",
     "output_type": "stream",
     "text": [
      "Python\n"
     ]
    },
    {
     "data": {
      "text/plain": [
       "'Python'"
      ]
     },
     "execution_count": 48,
     "metadata": {},
     "output_type": "execute_result"
    }
   ],
   "source": [
    "a = \"Aython\"\n",
    "\n",
    "print(\"P\" + a[1:])\n",
    "\"P\" + a[1:]"
   ]
  },
  {
   "cell_type": "code",
   "execution_count": 50,
   "id": "a803bfcf-20a4-46df-9562-eed58090b0c4",
   "metadata": {},
   "outputs": [
    {
     "name": "stdout",
     "output_type": "stream",
     "text": [
      "Python\n"
     ]
    }
   ],
   "source": [
    "a = \"Aython\"\n",
    "\n",
    "result = a.replace(\"A\", \"P\")\n",
    "print(result)"
   ]
  },
  {
   "cell_type": "markdown",
   "id": "0f96cb86-4804-4dde-a5d4-3aac6be7ebd8",
   "metadata": {},
   "source": [
    "## 문자열 메서드\n",
    "- 클래스와 클래스 메서드에 대한 이해"
   ]
  },
  {
   "cell_type": "code",
   "execution_count": 52,
   "id": "2fe64147-24be-47d9-8ff2-a2a79139fb7c",
   "metadata": {},
   "outputs": [
    {
     "ename": "AttributeError",
     "evalue": "'str' object has no attribute 'Replace'",
     "output_type": "error",
     "traceback": [
      "\u001b[1;31m---------------------------------------------------------------------------\u001b[0m",
      "\u001b[1;31mAttributeError\u001b[0m                            Traceback (most recent call last)",
      "Cell \u001b[1;32mIn[52], line 3\u001b[0m\n\u001b[0;32m      1\u001b[0m a \u001b[38;5;241m=\u001b[39m \u001b[38;5;124m\"\u001b[39m\u001b[38;5;124mAython\u001b[39m\u001b[38;5;124m\"\u001b[39m\n\u001b[1;32m----> 3\u001b[0m result \u001b[38;5;241m=\u001b[39m \u001b[43ma\u001b[49m\u001b[38;5;241;43m.\u001b[39;49m\u001b[43mReplace\u001b[49m(\u001b[38;5;124m\"\u001b[39m\u001b[38;5;124mA\u001b[39m\u001b[38;5;124m\"\u001b[39m, \u001b[38;5;124m\"\u001b[39m\u001b[38;5;124mP\u001b[39m\u001b[38;5;124m\"\u001b[39m)\n\u001b[0;32m      4\u001b[0m \u001b[38;5;28mprint\u001b[39m(result)\n",
      "\u001b[1;31mAttributeError\u001b[0m: 'str' object has no attribute 'Replace'"
     ]
    }
   ],
   "source": [
    "a = \"Aython\"\n",
    "\n",
    "result = a.Replace(\"A\", \"P\")\n",
    "print(result)"
   ]
  },
  {
   "cell_type": "markdown",
   "id": "5cb8d0fd-4f58-4794-9227-241defdd291f",
   "metadata": {},
   "source": [
    "b = \"Aython\"\n",
    "\n",
    "b 활용해서 무언가를 하고 싶음 -> 메서드가 있을 것 같은데~"
   ]
  },
  {
   "cell_type": "markdown",
   "id": "8c28e625-72fc-4794-96e5-3fe1f85eb214",
   "metadata": {},
   "source": [
    "b = \"python\"\n",
    "\n",
    "string object b = \"python\" \n",
    "-> 대문자를 바꾸고 싶음 \n",
    "-> chatGPT 답변 후, 실제로 있는지 공식문서 체크\n",
    "https://docs.python.org/3/library/stdtypes.html#string-methods"
   ]
  },
  {
   "cell_type": "markdown",
   "id": "c3d391c7-91fd-47cd-9c53-c555e2b59abd",
   "metadata": {},
   "source": [
    "b = \"python\"\n",
    "\n",
    "string object b = \"python\" -> 대문자를 바꾸고 싶음"
   ]
  },
  {
   "cell_type": "code",
   "execution_count": 56,
   "id": "690669b0-8b37-4564-9845-90078e7c4eb3",
   "metadata": {},
   "outputs": [
    {
     "data": {
      "text/plain": [
       "'HELLO, STREAMLIST'"
      ]
     },
     "execution_count": 56,
     "metadata": {},
     "output_type": "execute_result"
    }
   ],
   "source": [
    "sampleText = \"hello, streamlist\"\n",
    "sampleText = sampleText.upper()\n",
    "sampleText"
   ]
  },
  {
   "cell_type": "code",
   "execution_count": 58,
   "id": "7a9c7a98-ab06-4246-b628-67329efb0838",
   "metadata": {},
   "outputs": [
    {
     "data": {
      "text/plain": [
       "'Hello, streamlist'"
      ]
     },
     "execution_count": 58,
     "metadata": {},
     "output_type": "execute_result"
    }
   ],
   "source": [
    "sampleText = \"hello, streamlist\"\n",
    "sampleText = sampleText.capitalize()\n",
    "sampleText"
   ]
  },
  {
   "cell_type": "code",
   "execution_count": 60,
   "id": "c9baf2a0-e153-427e-9b94-d2c14d415722",
   "metadata": {},
   "outputs": [
    {
     "data": {
      "text/plain": [
       "'Hello, Streamlist'"
      ]
     },
     "execution_count": 60,
     "metadata": {},
     "output_type": "execute_result"
    }
   ],
   "source": [
    "sampleText = \"hello, streamlist\"\n",
    "sampleText = sampleText.title()\n",
    "sampleText"
   ]
  },
  {
   "cell_type": "code",
   "execution_count": 62,
   "id": "9ed68fdb-c8f8-4237-8057-bd1bccf1b1a9",
   "metadata": {},
   "outputs": [
    {
     "data": {
      "text/plain": [
       "['hello', 'streamlist']"
      ]
     },
     "execution_count": 62,
     "metadata": {},
     "output_type": "execute_result"
    }
   ],
   "source": [
    "sampleText = \"hello,streamlist\"\n",
    "words = sampleText.split(sep=\",\")\n",
    "words"
   ]
  },
  {
   "cell_type": "code",
   "execution_count": 63,
   "id": "dd25485e-3766-4082-bc0e-d0146e4d933c",
   "metadata": {},
   "outputs": [
    {
     "data": {
      "text/plain": [
       "['hello,streamlist']"
      ]
     },
     "execution_count": 63,
     "metadata": {},
     "output_type": "execute_result"
    }
   ],
   "source": [
    "sampleText = \"hello,streamlist\"\n",
    "words = sampleText.split()\n",
    "words"
   ]
  },
  {
   "cell_type": "markdown",
   "id": "c7c329c0-03a3-431d-b77f-76d3f0516f07",
   "metadata": {},
   "source": [
    "list\n",
    "- 책 참고\n",
    "- 리스트와 튜플의 차이점\n",
    "- - 리스트: 요소의 생성, 삭제, 수정 가능\n",
    "  - 튜플: 요소 변경 불가능"
   ]
  },
  {
   "cell_type": "code",
   "execution_count": 67,
   "id": "e45962ec-49f3-4708-81f7-61a3cac5676b",
   "metadata": {},
   "outputs": [
    {
     "data": {
      "text/plain": [
       "'hello,streamlist'"
      ]
     },
     "execution_count": 67,
     "metadata": {},
     "output_type": "execute_result"
    }
   ],
   "source": [
    "sampleList = [\"hello\", \"streamlist\"]\n",
    "text = \",\".join(sampleList)\n",
    "text"
   ]
  },
  {
   "cell_type": "markdown",
   "id": "30c468a9-c1ad-4808-ade1-977ea815ea48",
   "metadata": {},
   "source": [
    "## 시퀀스 자료형 확인\n",
    "- 인덱싱과 슬라이싱이 가능함\n",
    "- 반복문 사용할 때 기초자료형 활용"
   ]
  },
  {
   "cell_type": "code",
   "execution_count": 68,
   "id": "da7d81d4-ace9-4ee7-976a-194b6210ccf4",
   "metadata": {},
   "outputs": [
    {
     "name": "stdout",
     "output_type": "stream",
     "text": [
      "False\n",
      "True\n",
      "True\n"
     ]
    }
   ],
   "source": [
    "from collections.abc import Sequence\n",
    "\n",
    "my_num = 100\n",
    "my_list = [1, 2, 3]\n",
    "my_string = \"hello\"\n",
    "\n",
    "is_num = isinstance(my_num, Sequence)\n",
    "is_list = isinstance(my_list, Sequence)\n",
    "is_string = isinstance(my_string, Sequence)\n",
    "\n",
    "print(is_num)\n",
    "print(is_list)\n",
    "print(is_string)"
   ]
  },
  {
   "cell_type": "markdown",
   "id": "d139b126-2f8d-4446-ba5e-f694606cac80",
   "metadata": {},
   "source": [
    "# List 리스트"
   ]
  },
  {
   "cell_type": "code",
   "execution_count": 70,
   "id": "b67bff5a-3a86-465c-ab54-c86cb33659e1",
   "metadata": {},
   "outputs": [
    {
     "name": "stdout",
     "output_type": "stream",
     "text": [
      "1\n",
      "[0, 1, 2, 3, 4, 5, 6, 7]\n"
     ]
    }
   ],
   "source": [
    "a = [0, 1, 2, 3, 4, 5, 6, 7, 8, 9]\n",
    "print(a[1])\n",
    "print(a[0:8])"
   ]
  },
  {
   "cell_type": "code",
   "execution_count": 73,
   "id": "3785c02e-685b-445b-aa42-2dfce8210357",
   "metadata": {},
   "outputs": [
    {
     "data": {
      "text/plain": [
       "'e'"
      ]
     },
     "execution_count": 73,
     "metadata": {},
     "output_type": "execute_result"
    }
   ],
   "source": [
    "a = [0, 1, 2, [\"Python\", \"Hello\"], 3, 4, 5]\n",
    "a[3][1][1]"
   ]
  },
  {
   "cell_type": "code",
   "execution_count": 77,
   "id": "21b77bb8-af34-4277-942d-a79e928410b9",
   "metadata": {},
   "outputs": [
    {
     "data": {
      "text/plain": [
       "['IM', 'banker', 'academy']"
      ]
     },
     "execution_count": 77,
     "metadata": {},
     "output_type": "execute_result"
    }
   ],
   "source": [
    "a = [\"IM\", \"banker\"]\n",
    "a.append(\"academy\")\n",
    "a"
   ]
  },
  {
   "cell_type": "code",
   "execution_count": 78,
   "id": "086b5654-de86-4fcf-8ef6-868dbf855239",
   "metadata": {},
   "outputs": [
    {
     "name": "stdout",
     "output_type": "stream",
     "text": [
      "None\n"
     ]
    }
   ],
   "source": [
    "a = [\"IM\", \"banker\"]\n",
    "result = a.append(\"academy\")\n",
    "print(result)"
   ]
  },
  {
   "cell_type": "code",
   "execution_count": 79,
   "id": "784c4016-8eb8-49a6-983a-f99679fbf3fb",
   "metadata": {},
   "outputs": [
    {
     "ename": "TypeError",
     "evalue": "list.append() takes exactly one argument (2 given)",
     "output_type": "error",
     "traceback": [
      "\u001b[1;31m---------------------------------------------------------------------------\u001b[0m",
      "\u001b[1;31mTypeError\u001b[0m                                 Traceback (most recent call last)",
      "Cell \u001b[1;32mIn[79], line 2\u001b[0m\n\u001b[0;32m      1\u001b[0m a \u001b[38;5;241m=\u001b[39m [\u001b[38;5;241m100\u001b[39m, \u001b[38;5;241m200\u001b[39m]\n\u001b[1;32m----> 2\u001b[0m \u001b[43ma\u001b[49m\u001b[38;5;241;43m.\u001b[39;49m\u001b[43mappend\u001b[49m\u001b[43m(\u001b[49m\u001b[38;5;241;43m300\u001b[39;49m\u001b[43m,\u001b[49m\u001b[43m \u001b[49m\u001b[38;5;241;43m400\u001b[39;49m\u001b[43m)\u001b[49m\n\u001b[0;32m      3\u001b[0m a\n",
      "\u001b[1;31mTypeError\u001b[0m: list.append() takes exactly one argument (2 given)"
     ]
    }
   ],
   "source": [
    "a = [100, 200]\n",
    "a.append(300, 400)\n",
    "a"
   ]
  },
  {
   "cell_type": "code",
   "execution_count": 80,
   "id": "9d567ab0-94e9-4deb-9fd4-cfbe28263f13",
   "metadata": {},
   "outputs": [
    {
     "data": {
      "text/plain": [
       "[100, 200, 300, 400]"
      ]
     },
     "execution_count": 80,
     "metadata": {},
     "output_type": "execute_result"
    }
   ],
   "source": [
    "a = [100, 200]\n",
    "a.extend([300, 400])\n",
    "a"
   ]
  },
  {
   "cell_type": "markdown",
   "id": "1201d9e3-e313-466e-b50b-46335d0f2848",
   "metadata": {},
   "source": [
    "## 리스트 값 변경 및 삭제"
   ]
  },
  {
   "cell_type": "code",
   "execution_count": 81,
   "id": "be2e54d7-6e22-45e2-a291-50c7543ed3cf",
   "metadata": {},
   "outputs": [
    {
     "data": {
      "text/plain": [
       "[1302, 301, 418, 430, 529]"
      ]
     },
     "execution_count": 81,
     "metadata": {},
     "output_type": "execute_result"
    }
   ],
   "source": [
    "numbers = [302, 301, 418, 430, 529]\n",
    "numbers[0] = 1302\n",
    "numbers"
   ]
  },
  {
   "cell_type": "code",
   "execution_count": 87,
   "id": "8a6fe1a4-e9bb-4056-ab05-09f551670a41",
   "metadata": {},
   "outputs": [
    {
     "ename": "TypeError",
     "evalue": "'tuple' object does not support item assignment",
     "output_type": "error",
     "traceback": [
      "\u001b[1;31m---------------------------------------------------------------------------\u001b[0m",
      "\u001b[1;31mTypeError\u001b[0m                                 Traceback (most recent call last)",
      "Cell \u001b[1;32mIn[87], line 3\u001b[0m\n\u001b[0;32m      1\u001b[0m \u001b[38;5;66;03m# 튜플\u001b[39;00m\n\u001b[0;32m      2\u001b[0m numbers \u001b[38;5;241m=\u001b[39m (\u001b[38;5;241m302\u001b[39m, \u001b[38;5;241m301\u001b[39m, \u001b[38;5;241m418\u001b[39m, \u001b[38;5;241m430\u001b[39m, \u001b[38;5;241m529\u001b[39m)\n\u001b[1;32m----> 3\u001b[0m \u001b[43mnumbers\u001b[49m\u001b[43m[\u001b[49m\u001b[38;5;241;43m0\u001b[39;49m\u001b[43m]\u001b[49m \u001b[38;5;241m=\u001b[39m \u001b[38;5;241m1302\u001b[39m\n\u001b[0;32m      4\u001b[0m numbers\n",
      "\u001b[1;31mTypeError\u001b[0m: 'tuple' object does not support item assignment"
     ]
    }
   ],
   "source": [
    "# 튜플\n",
    "numbers = (302, 301, 418, 430, 529)\n",
    "numbers[0] = 1302\n",
    "numbers"
   ]
  },
  {
   "cell_type": "code",
   "execution_count": 93,
   "id": "a6c0a82b-a9de-4289-b4c1-b4ea4db76453",
   "metadata": {},
   "outputs": [
    {
     "data": {
      "text/plain": [
       "[302, 418, 430, 529]"
      ]
     },
     "execution_count": 93,
     "metadata": {},
     "output_type": "execute_result"
    }
   ],
   "source": [
    "# 리스트 삭제\n",
    "numbers = [302, 301, 418, 430, 529]\n",
    "numbers.remove(301)\n",
    "numbers"
   ]
  },
  {
   "cell_type": "code",
   "execution_count": 95,
   "id": "31407c2f-c8fa-4968-9b6a-9b3eda5a2e73",
   "metadata": {},
   "outputs": [
    {
     "data": {
      "text/plain": [
       "[302, 418, 430, 529]"
      ]
     },
     "execution_count": 95,
     "metadata": {},
     "output_type": "execute_result"
    }
   ],
   "source": [
    "numbers = [302, 301, 418, 430, 529]\n",
    "del numbers[1]\n",
    "numbers"
   ]
  },
  {
   "cell_type": "markdown",
   "id": "c267118c-7dbc-41a6-85a0-cb70a29c8e66",
   "metadata": {},
   "source": [
    "## 딕셔너리"
   ]
  },
  {
   "cell_type": "markdown",
   "id": "cc558115-54e7-4939-a141-c123ea406d7e",
   "metadata": {},
   "source": [
    "my_dic = {\n",
    "    'key1' : 'value'\n",
    "    'key2' : '모든 기초 자료형'\n",
    "}"
   ]
  },
  {
   "cell_type": "code",
   "execution_count": 107,
   "id": "3e087511-ce94-470e-9d1d-1415b35118d2",
   "metadata": {},
   "outputs": [
    {
     "data": {
      "text/plain": [
       "'o'"
      ]
     },
     "execution_count": 107,
     "metadata": {},
     "output_type": "execute_result"
    }
   ],
   "source": [
    "my_dic = {\n",
    "    \"name\" : \"evan\", \n",
    "    \"age\" : 20, \n",
    "    \"job\" : \"강사\", \n",
    "    \"쇼핑목록\" : [0, 1, 2, [\"Python\", \"Hello\"], 3, 4, 5], \n",
    "    \"그외\" : (1, 2, 3), \n",
    "    \"그외2\" : {\"key\" : \"value\"}}\n",
    "\n",
    "my_dic[\"쇼핑목록\"][3][1][-1]"
   ]
  },
  {
   "cell_type": "code",
   "execution_count": 114,
   "id": "37316dc3-0f78-4372-8b41-9e98ad948b55",
   "metadata": {},
   "outputs": [
    {
     "data": {
      "text/plain": [
       "{'name': 'evan',\n",
       " 'age': 20,\n",
       " 'job': '강사',\n",
       " '쇼핑목록': [0, 1, 2, ['Python', 'Hello'], 3, 4, 5],\n",
       " '그외': (1, 2, 3),\n",
       " '그외2': {'key': 'value'},\n",
       " '기타': '아무거나'}"
      ]
     },
     "execution_count": 114,
     "metadata": {},
     "output_type": "execute_result"
    }
   ],
   "source": [
    "my_dic['기타'] = '아무거나'\n",
    "my_dic"
   ]
  },
  {
   "cell_type": "code",
   "execution_count": 115,
   "id": "dcb16e03-19f8-4eb0-a675-d547368620c3",
   "metadata": {},
   "outputs": [
    {
     "data": {
      "text/plain": [
       "{'name': 'evan',\n",
       " 'age': 20,\n",
       " 'job': '강사',\n",
       " '쇼핑목록': ['맥북', '아이패드'],\n",
       " '그외': (1, 2, 3),\n",
       " '그외2': {'key': 'value'},\n",
       " '기타': '아무거나'}"
      ]
     },
     "execution_count": 115,
     "metadata": {},
     "output_type": "execute_result"
    }
   ],
   "source": [
    "my_dic['쇼핑목록'] = [\"맥북\", \"아이패드\"]\n",
    "my_dic"
   ]
  },
  {
   "cell_type": "code",
   "execution_count": 116,
   "id": "95544b76-c162-401d-af22-3957e813bf06",
   "metadata": {},
   "outputs": [
    {
     "data": {
      "text/plain": [
       "dict_keys(['name', 'age', 'job', '쇼핑목록', '그외', '그외2', '기타'])"
      ]
     },
     "execution_count": 116,
     "metadata": {},
     "output_type": "execute_result"
    }
   ],
   "source": [
    "my_dic.keys()"
   ]
  },
  {
   "cell_type": "code",
   "execution_count": 117,
   "id": "75b17e95-400c-4ffe-843e-dddb0e2f8836",
   "metadata": {},
   "outputs": [
    {
     "data": {
      "text/plain": [
       "dict_values(['evan', 20, '강사', ['맥북', '아이패드'], (1, 2, 3), {'key': 'value'}, '아무거나'])"
      ]
     },
     "execution_count": 117,
     "metadata": {},
     "output_type": "execute_result"
    }
   ],
   "source": [
    "my_dic.values()"
   ]
  },
  {
   "cell_type": "code",
   "execution_count": 118,
   "id": "51d11891-e7b7-4e07-a64a-ad1e6d65eea6",
   "metadata": {},
   "outputs": [
    {
     "data": {
      "text/plain": [
       "dict_items([('name', 'evan'), ('age', 20), ('job', '강사'), ('쇼핑목록', ['맥북', '아이패드']), ('그외', (1, 2, 3)), ('그외2', {'key': 'value'}), ('기타', '아무거나')])"
      ]
     },
     "execution_count": 118,
     "metadata": {},
     "output_type": "execute_result"
    }
   ],
   "source": [
    "my_dic.items()"
   ]
  },
  {
   "cell_type": "code",
   "execution_count": 119,
   "id": "109f4d3f-1fd9-4163-a1dd-eefad8cbb0a5",
   "metadata": {},
   "outputs": [
    {
     "data": {
      "text/plain": [
       "['name', 'age', 'job', '쇼핑목록', '그외', '그외2', '기타']"
      ]
     },
     "execution_count": 119,
     "metadata": {},
     "output_type": "execute_result"
    }
   ],
   "source": [
    "list(my_dic.keys())"
   ]
  },
  {
   "cell_type": "markdown",
   "id": "946e019d-f3f7-49f2-b349-f76036893ee8",
   "metadata": {},
   "source": [
    "## 단일 조건에 따른 분기"
   ]
  },
  {
   "cell_type": "code",
   "execution_count": 2,
   "id": "db0b4978-f4ff-4a9d-845c-688cfa94339d",
   "metadata": {},
   "outputs": [
    {
     "name": "stdin",
     "output_type": "stream",
     "text": [
      "숫자를 입력하세요.. 95\n"
     ]
    },
    {
     "name": "stdout",
     "output_type": "stream",
     "text": [
      "pass\n"
     ]
    }
   ],
   "source": [
    "x = int(input(\"숫자를 입력하세요..\"))\n",
    "if x >= 90:\n",
    "    print(\"pass\")"
   ]
  },
  {
   "cell_type": "markdown",
   "id": "e6f3dbba-a094-4ebc-8702-95da443d5b71",
   "metadata": {},
   "source": [
    "## 단일 조건 및\n",
    "for example) 합격/불합격을 만드는 일\n",
    "\n",
    "시나리오 만들기\n",
    "-> 문제 정의\n",
    "-> 90점 이상 합격\n",
    "-> 80점 이상이면 조건부 합격 처리\n",
    "-> 그 외는 불합격 처리"
   ]
  },
  {
   "cell_type": "code",
   "execution_count": 5,
   "id": "8567a5b8-fff0-4c20-aca7-9dbde2762c16",
   "metadata": {},
   "outputs": [
    {
     "name": "stdin",
     "output_type": "stream",
     "text": [
      "숫자를 입력하세요.. 50\n"
     ]
    },
    {
     "name": "stdout",
     "output_type": "stream",
     "text": [
      "fail\n"
     ]
    }
   ],
   "source": [
    "x = int(input(\"숫자를 입력하세요..\"))\n",
    "if x >= 90:\n",
    "    print(\"pass\")\n",
    "else:\n",
    "    print(\"fail\")"
   ]
  },
  {
   "cell_type": "markdown",
   "id": "9fcf0089-d79c-4407-b49b-ea4928014f84",
   "metadata": {},
   "source": [
    "## 여러 조건에 따른 분기"
   ]
  },
  {
   "cell_type": "code",
   "execution_count": 6,
   "id": "c3ee471a-0dd2-4687-aa11-1285edcc201f",
   "metadata": {},
   "outputs": [
    {
     "name": "stdin",
     "output_type": "stream",
     "text": [
      "숫자를 입력하세요.. 85\n"
     ]
    },
    {
     "name": "stdout",
     "output_type": "stream",
     "text": [
      "조건부 합격\n"
     ]
    }
   ],
   "source": [
    "x = int(input(\"숫자를 입력하세요..\"))\n",
    "if x >= 90:\n",
    "    print(\"pass\")\n",
    "elif (x >=80) and (x <90):\n",
    "    print(\"조건부 합격\")\n",
    "else:\n",
    "    print(\"fail\")"
   ]
  },
  {
   "cell_type": "markdown",
   "id": "4e2811e5-1245-48af-a97d-87cd56abbaf5",
   "metadata": {},
   "source": [
    "## 중첩 조건에 따른 분기\n",
    "- 시나리오\n",
    "- 90점 넘으면 합격, 그 중에서 100점 자에게는 장학금 지급\n",
    "- 80점 이상은 조건부 합격\n",
    "- 그 외는 불합격"
   ]
  },
  {
   "cell_type": "code",
   "execution_count": 13,
   "id": "09abbac9-7341-4760-8c0c-29ecc51d49d7",
   "metadata": {},
   "outputs": [
    {
     "name": "stdin",
     "output_type": "stream",
     "text": [
      "숫자를 입력하세요.. 100\n"
     ]
    },
    {
     "name": "stdout",
     "output_type": "stream",
     "text": [
      "장학금 지급\n"
     ]
    }
   ],
   "source": [
    "x = int(input(\"숫자를 입력하세요..\"))\n",
    "if x >= 90:\n",
    "    if x == 100:\n",
    "        print(\"장학금 지급\")\n",
    "    else:\n",
    "         print(\"pass\")\n",
    "elif (x >=80) and (x <90):\n",
    "    print(\"조건부 합격\")\n",
    "else:\n",
    "    print(\"fail\")"
   ]
  },
  {
   "cell_type": "markdown",
   "id": "61d0aa7f-3299-4398-b8ff-b1966d93cef6",
   "metadata": {},
   "source": [
    "## 반복문"
   ]
  },
  {
   "cell_type": "code",
   "execution_count": 14,
   "id": "302b5f9c-544d-4a64-be16-333d5b84b050",
   "metadata": {},
   "outputs": [
    {
     "name": "stdout",
     "output_type": "stream",
     "text": [
      "안녕하세요\n",
      "안녕하세요\n",
      "안녕하세요\n"
     ]
    }
   ],
   "source": [
    "for i in range(3):\n",
    "    print(\"안녕하세요\")"
   ]
  },
  {
   "cell_type": "markdown",
   "id": "64306445-b712-4da2-8dd7-c393dc7e746a",
   "metadata": {},
   "source": [
    "- 시퀀스 자료형이 range 대신에 들어감"
   ]
  },
  {
   "cell_type": "code",
   "execution_count": 17,
   "id": "ab2bc513-d364-43e7-b5f8-1041d0b9255c",
   "metadata": {},
   "outputs": [
    {
     "name": "stdout",
     "output_type": "stream",
     "text": [
      "False\n",
      "True\n",
      "True\n"
     ]
    }
   ],
   "source": [
    "from collections.abc import Sequence\n",
    "\n",
    "my_num = 100\n",
    "my_list = [1, 2, 3]\n",
    "my_string = \"hello\"\n",
    "\n",
    "is_num = isinstance(my_num, Sequence)\n",
    "is_list = isinstance(my_list, Sequence)\n",
    "is_string = isinstance(my_string, Sequence)\n",
    "\n",
    "print(is_num)\n",
    "print(is_list)\n",
    "print(is_string)"
   ]
  },
  {
   "cell_type": "code",
   "execution_count": 18,
   "id": "d5613873-90c7-47fe-a012-809ec95446bf",
   "metadata": {},
   "outputs": [
    {
     "name": "stdout",
     "output_type": "stream",
     "text": [
      "1\n",
      "2\n",
      "3\n"
     ]
    }
   ],
   "source": [
    "for i in my_list:\n",
    "    print(i)"
   ]
  },
  {
   "cell_type": "code",
   "execution_count": 19,
   "id": "6ad61004-22b8-4e33-b538-baef0d6f0133",
   "metadata": {},
   "outputs": [
    {
     "data": {
      "text/plain": [
       "[0, 1, 2]"
      ]
     },
     "execution_count": 19,
     "metadata": {},
     "output_type": "execute_result"
    }
   ],
   "source": [
    "list(range(3))"
   ]
  },
  {
   "cell_type": "markdown",
   "id": "b3df1723-2de6-410e-a74d-fccd235d9bcb",
   "metadata": {},
   "source": [
    "## 중첩 for문"
   ]
  },
  {
   "cell_type": "code",
   "execution_count": 20,
   "id": "5d678122-c5f5-42d4-ad6b-221bde383874",
   "metadata": {},
   "outputs": [],
   "source": [
    "x_list = [\"x1\", \"x2\"]\n",
    "y_list = [\"y1\", \"y2\"]\n",
    "\n",
    "원하는 결과물\n",
    "x1, y1\n",
    "x2, y2\n",
    "x3, y3\n",
    "x4, y4"
   ]
  },
  {
   "cell_type": "code",
   "execution_count": 22,
   "id": "86727a31-6294-47eb-a546-3c2dbf6a421b",
   "metadata": {},
   "outputs": [
    {
     "name": "stdout",
     "output_type": "stream",
     "text": [
      "x, y\n",
      "x1\n",
      "x1 y1\n",
      "x1 y2\n",
      "x2\n",
      "x2 y1\n",
      "x2 y2\n"
     ]
    }
   ],
   "source": [
    "x_list = [\"x1\", \"x2\"]\n",
    "y_list = [\"y1\", \"y2\"]\n",
    "\n",
    "print(\"x, y\")\n",
    "for x in x_list:\n",
    "    print(x)\n",
    "    for y in y_list:\n",
    "        print(x, y)"
   ]
  },
  {
   "cell_type": "code",
   "execution_count": 23,
   "id": "fc58bad7-399c-496f-98fb-26e5683e9d60",
   "metadata": {},
   "outputs": [
    {
     "name": "stdout",
     "output_type": "stream",
     "text": [
      "2 x 1 = 2\n",
      "2 x 2 = 4\n",
      "2 x 3 = 6\n",
      "2 x 4 = 8\n",
      "2 x 5 = 10\n",
      "2 x 6 = 12\n",
      "2 x 7 = 14\n",
      "2 x 8 = 16\n",
      "2 x 9 = 18\n",
      "\n",
      "3 x 1 = 3\n",
      "3 x 2 = 6\n",
      "3 x 3 = 9\n",
      "3 x 4 = 12\n",
      "3 x 5 = 15\n",
      "3 x 6 = 18\n",
      "3 x 7 = 21\n",
      "3 x 8 = 24\n",
      "3 x 9 = 27\n",
      "\n",
      "4 x 1 = 4\n",
      "4 x 2 = 8\n",
      "4 x 3 = 12\n",
      "4 x 4 = 16\n",
      "4 x 5 = 20\n",
      "4 x 6 = 24\n",
      "4 x 7 = 28\n",
      "4 x 8 = 32\n",
      "4 x 9 = 36\n",
      "\n",
      "5 x 1 = 5\n",
      "5 x 2 = 10\n",
      "5 x 3 = 15\n",
      "5 x 4 = 20\n",
      "5 x 5 = 25\n",
      "5 x 6 = 30\n",
      "5 x 7 = 35\n",
      "5 x 8 = 40\n",
      "5 x 9 = 45\n",
      "\n",
      "6 x 1 = 6\n",
      "6 x 2 = 12\n",
      "6 x 3 = 18\n",
      "6 x 4 = 24\n",
      "6 x 5 = 30\n",
      "6 x 6 = 36\n",
      "6 x 7 = 42\n",
      "6 x 8 = 48\n",
      "6 x 9 = 54\n",
      "\n",
      "7 x 1 = 7\n",
      "7 x 2 = 14\n",
      "7 x 3 = 21\n",
      "7 x 4 = 28\n",
      "7 x 5 = 35\n",
      "7 x 6 = 42\n",
      "7 x 7 = 49\n",
      "7 x 8 = 56\n",
      "7 x 9 = 63\n",
      "\n",
      "8 x 1 = 8\n",
      "8 x 2 = 16\n",
      "8 x 3 = 24\n",
      "8 x 4 = 32\n",
      "8 x 5 = 40\n",
      "8 x 6 = 48\n",
      "8 x 7 = 56\n",
      "8 x 8 = 64\n",
      "8 x 9 = 72\n",
      "\n",
      "9 x 1 = 9\n",
      "9 x 2 = 18\n",
      "9 x 3 = 27\n",
      "9 x 4 = 36\n",
      "9 x 5 = 45\n",
      "9 x 6 = 54\n",
      "9 x 7 = 63\n",
      "9 x 8 = 72\n",
      "9 x 9 = 81\n",
      "\n"
     ]
    }
   ],
   "source": [
    "for i in range(2, 10):  # 2단부터 9단까지\n",
    "    for j in range(1, 10):  # 각 단의 1부터 9까지 곱셈\n",
    "        print(f\"{i} x {j} = {i * j}\")\n",
    "    print()  # 각 단이 끝날 때 줄바꿈"
   ]
  },
  {
   "cell_type": "markdown",
   "id": "7aa89a10-9cf9-4ef0-9a60-9287ab0a52d5",
   "metadata": {},
   "source": [
    "## 여러 개의 리스트 다루기"
   ]
  },
  {
   "cell_type": "code",
   "execution_count": 26,
   "id": "ff512a04-dda6-4db1-a212-c1fb81e45e18",
   "metadata": {},
   "outputs": [
    {
     "name": "stdout",
     "output_type": "stream",
     "text": [
      "James 95\n",
      "Robert 96\n",
      "Lisa 97\n",
      "Mary 94\n"
     ]
    }
   ],
   "source": [
    "names = ['James', 'Robert', 'Lisa', 'Mary']\n",
    "scores = [95, 96, 97, 94]\n",
    "\n",
    "# ids : index number\n",
    "for idx in range(len(names)):\n",
    "    # print(idx)\n",
    "    print(names[idx], scores[idx])"
   ]
  },
  {
   "cell_type": "code",
   "execution_count": 27,
   "id": "7df326b1-14f1-4cb6-bac5-462993d14b09",
   "metadata": {},
   "outputs": [
    {
     "name": "stdout",
     "output_type": "stream",
     "text": [
      "James 95\n",
      "Robert 96\n",
      "Lisa 97\n",
      "Mary 94\n"
     ]
    }
   ],
   "source": [
    "names = ['James', 'Robert', 'Lisa', 'Mary']\n",
    "scores = [95, 96, 97, 94]\n",
    "\n",
    "for name, score in zip(names, scores):\n",
    "    print(name, score)"
   ]
  },
  {
   "cell_type": "markdown",
   "id": "a9d850a7-c7cd-432b-b908-e2a4d78bf6ac",
   "metadata": {},
   "source": [
    "## 리스트 컴플리헨션"
   ]
  },
  {
   "cell_type": "code",
   "execution_count": 29,
   "id": "24b4a166-e909-4b95-b7bf-807c4fd3cbf2",
   "metadata": {},
   "outputs": [
    {
     "name": "stdout",
     "output_type": "stream",
     "text": [
      "2\n",
      "4\n",
      "6\n",
      "8\n",
      "10\n"
     ]
    }
   ],
   "source": [
    "numbers = [1, 2, 3, 4, 5]\n",
    "result = []\n",
    "for x in numbers:\n",
    "    print(x * 2)"
   ]
  },
  {
   "cell_type": "code",
   "execution_count": 32,
   "id": "8c92ae26-c1a8-42cb-afc0-f746ce6a23e1",
   "metadata": {},
   "outputs": [
    {
     "name": "stdout",
     "output_type": "stream",
     "text": [
      "[2, 4, 6, 8, 10]\n"
     ]
    }
   ],
   "source": [
    "numbers = [1, 2, 3, 4, 5]\n",
    "result = []\n",
    "for x in numbers:\n",
    "    result.append(x * 2)\n",
    "print(result)"
   ]
  },
  {
   "cell_type": "code",
   "execution_count": 33,
   "id": "fee41073-685e-4e45-8115-5a685f6fcb14",
   "metadata": {},
   "outputs": [
    {
     "name": "stdout",
     "output_type": "stream",
     "text": [
      "[2, 4, 6, 8, 10]\n"
     ]
    }
   ],
   "source": [
    "numbers = [1, 2, 3, 4, 5]\n",
    "result2 = [x *2 for x in numbers]\n",
    "print(result2)"
   ]
  },
  {
   "cell_type": "code",
   "execution_count": 36,
   "id": "123fffbb-17be-40c8-adbc-8e5733e734c9",
   "metadata": {},
   "outputs": [
    {
     "data": {
      "text/plain": [
       "[2, 4, 6]"
      ]
     },
     "execution_count": 36,
     "metadata": {},
     "output_type": "execute_result"
    }
   ],
   "source": [
    "numbers = [1, 2, 3, 4, 5, 6]\n",
    "result = []\n",
    "for x in numbers:\n",
    "    if x % 2 == 0:\n",
    "        result.append(x)\n",
    "result"
   ]
  },
  {
   "cell_type": "code",
   "execution_count": 48,
   "id": "0952577f-573e-47ce-9837-a91ef1b30944",
   "metadata": {},
   "outputs": [
    {
     "name": "stdout",
     "output_type": "stream",
     "text": [
      "[2, 4, 6]\n"
     ]
    }
   ],
   "source": [
    "numbers = [1, 2, 3, 4, 5, 6]\n",
    "result2 = [x for x in numbers if x % 2 == 0]\n",
    "print(result2)"
   ]
  },
  {
   "cell_type": "markdown",
   "id": "209d647e-0700-4760-a6e5-e94746197909",
   "metadata": {},
   "source": [
    "## while 반복문 (데이터 분석에서 자주 쓸 일 없음)\n",
    "- 조건문이 참일 때만 반복해서 실행\n",
    "- 데이터 분석 : 데이터셋이 정해져 있음\n",
    "- - + 행과 열이 고정이 되어 있음\n",
    "    + 범위가 주어진 상태"
   ]
  },
  {
   "cell_type": "code",
   "execution_count": 50,
   "id": "9d2197cd-3008-4df8-ad5f-611cceb40a16",
   "metadata": {},
   "outputs": [
    {
     "name": "stdout",
     "output_type": "stream",
     "text": [
      "1 1\n",
      "2 3\n",
      "3 6\n",
      "4 10\n",
      "5 15\n",
      "6 21\n"
     ]
    }
   ],
   "source": [
    "i = 0\n",
    "total = 0\n",
    "\n",
    "while(total < 20):\n",
    "    i = i + 1\n",
    "    total = total + i\n",
    "    print(i, total)"
   ]
  },
  {
   "cell_type": "code",
   "execution_count": 52,
   "id": "0379c7b2-71a7-4c45-9082-2c5c165f31c7",
   "metadata": {},
   "outputs": [
    {
     "name": "stdout",
     "output_type": "stream",
     "text": [
      "안녕하세요\n",
      "안녕하세요\n",
      "안녕하세요\n",
      "안녕하세요\n",
      "4\n"
     ]
    }
   ],
   "source": [
    "k = 0\n",
    "while True:\n",
    "    k = k + 1\n",
    "    print(\"안녕하세요\")\n",
    "    if(k > 3):\n",
    "        print(k)\n",
    "        break"
   ]
  },
  {
   "cell_type": "markdown",
   "id": "501e3f59-1762-4de4-8f93-677588c14fa9",
   "metadata": {},
   "source": [
    "## 사용자 정의 함수"
   ]
  },
  {
   "cell_type": "code",
   "execution_count": 54,
   "id": "9fca3841-1df6-4eab-bad3-50a5c1e36d7c",
   "metadata": {},
   "outputs": [],
   "source": [
    "def my_list_func():\n",
    "    print(\"안녕하세요\")\n",
    "    print(\"반갑습니다\")"
   ]
  },
  {
   "cell_type": "code",
   "execution_count": 55,
   "id": "a8842644-f75e-4a7d-a823-c91e8b4274f9",
   "metadata": {},
   "outputs": [
    {
     "name": "stdout",
     "output_type": "stream",
     "text": [
      "안녕하세요\n",
      "반갑습니다\n"
     ]
    }
   ],
   "source": [
    "my_list_func()"
   ]
  },
  {
   "cell_type": "code",
   "execution_count": null,
   "id": "71309aa5-b727-4898-b22a-58edcca86ff2",
   "metadata": {},
   "outputs": [],
   "source": []
  }
 ],
 "metadata": {
  "kernelspec": {
   "display_name": "Python 3 (ipykernel)",
   "language": "python",
   "name": "python3"
  },
  "language_info": {
   "codemirror_mode": {
    "name": "ipython",
    "version": 3
   },
   "file_extension": ".py",
   "mimetype": "text/x-python",
   "name": "python",
   "nbconvert_exporter": "python",
   "pygments_lexer": "ipython3",
   "version": "3.12.6"
  }
 },
 "nbformat": 4,
 "nbformat_minor": 5
}
