{
 "cells": [
  {
   "cell_type": "code",
   "execution_count": 4,
   "id": "c1ff0969-3089-4b36-9c5d-402b4a0c22e1",
   "metadata": {},
   "outputs": [
    {
     "name": "stdout",
     "output_type": "stream",
     "text": [
      "191\n"
     ]
    }
   ],
   "source": [
    "a = 0o277\n",
    "print(a)"
   ]
  },
  {
   "cell_type": "code",
   "execution_count": 5,
   "id": "88c3efa3-ec80-483d-a78d-97c33f9b2d80",
   "metadata": {},
   "outputs": [],
   "source": [
    ">>> food = 'Python\\'s favorite food is perl'\n",
    ">>> say = \"\\\"Python is very easy.\\\" he says.\""
   ]
  },
  {
   "cell_type": "code",
   "execution_count": null,
   "id": "bafc1b1a-fe6e-462a-96f9-5c46a0a85ede",
   "metadata": {},
   "outputs": [],
   "source": []
  }
 ],
 "metadata": {
  "kernelspec": {
   "display_name": "Python 3 (ipykernel)",
   "language": "python",
   "name": "python3"
  },
  "language_info": {
   "codemirror_mode": {
    "name": "ipython",
    "version": 3
   },
   "file_extension": ".py",
   "mimetype": "text/x-python",
   "name": "python",
   "nbconvert_exporter": "python",
   "pygments_lexer": "ipython3",
   "version": "3.12.6"
  }
 },
 "nbformat": 4,
 "nbformat_minor": 5
}
