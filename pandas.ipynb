{
 "cells": [
  {
   "cell_type": "code",
   "execution_count": 1,
   "id": "ade555f2-1e58-4e16-aac7-ac04045567d1",
   "metadata": {},
   "outputs": [
    {
     "data": {
      "text/plain": [
       "'2.2.3'"
      ]
     },
     "execution_count": 1,
     "metadata": {},
     "output_type": "execute_result"
    }
   ],
   "source": [
    "import pandas as pd\n",
    "pd.__version__"
   ]
  },
  {
   "cell_type": "code",
   "execution_count": 3,
   "id": "89430be2-9eb3-4d02-99b3-c3f62e09f784",
   "metadata": {},
   "outputs": [
    {
     "data": {
      "text/plain": [
       "0    시가\n",
       "1    고가\n",
       "dtype: object"
      ]
     },
     "execution_count": 3,
     "metadata": {},
     "output_type": "execute_result"
    }
   ],
   "source": [
    "data = [\"시가\", \"고가\"]\n",
    "s = pd.Series(data)\n",
    "s"
   ]
  },
  {
   "cell_type": "code",
   "execution_count": 5,
   "id": "8c019876-43e3-4ade-a901-f13c8ff001d3",
   "metadata": {},
   "outputs": [
    {
     "data": {
      "text/plain": [
       "0    80000\n",
       "1    90000\n",
       "dtype: object"
      ]
     },
     "execution_count": 5,
     "metadata": {},
     "output_type": "execute_result"
    }
   ],
   "source": [
    "data = [80000, \"90000\"]\n",
    "s = pd.Series(data)\n",
    "s"
   ]
  },
  {
   "cell_type": "code",
   "execution_count": 8,
   "id": "7581eecd-8a45-4b5a-b5a6-9002627bce73",
   "metadata": {},
   "outputs": [
    {
     "name": "stdout",
     "output_type": "stream",
     "text": [
      "RangeIndex(start=0, stop=3, step=1) <class 'pandas.core.indexes.range.RangeIndex'>\n"
     ]
    }
   ],
   "source": [
    "data = [1000, 2000, 3000]\n",
    "s = pd.Series(data)\n",
    "print(s.index, type(s.index))"
   ]
  },
  {
   "cell_type": "code",
   "execution_count": 9,
   "id": "fb8efd94-f9f6-42f4-84cd-bb1fbde48a5b",
   "metadata": {
    "editable": true,
    "slideshow": {
     "slide_type": ""
    },
    "tags": []
   },
   "outputs": [
    {
     "data": {
      "text/plain": [
       "[0, 1, 2]"
      ]
     },
     "execution_count": 9,
     "metadata": {},
     "output_type": "execute_result"
    }
   ],
   "source": [
    "list(s.index)"
   ]
  },
  {
   "cell_type": "code",
   "execution_count": 10,
   "id": "abf690ce-1de6-41af-8782-4f4d3f2f199e",
   "metadata": {},
   "outputs": [
    {
     "data": {
      "text/plain": [
       "[0, 1, 2]"
      ]
     },
     "execution_count": 10,
     "metadata": {},
     "output_type": "execute_result"
    }
   ],
   "source": [
    "s.index.to_list()"
   ]
  },
  {
   "cell_type": "code",
   "execution_count": 14,
   "id": "c46c15a2-528b-4d70-9510-b80a0443de17",
   "metadata": {},
   "outputs": [],
   "source": [
    "# help(s.index) # 클래스에는 항상 속성과 메서드 존재"
   ]
  },
  {
   "cell_type": "code",
   "execution_count": 29,
   "id": "4bbbe673-a40a-4878-bb19-ec0bfccf2848",
   "metadata": {},
   "outputs": [
    {
     "data": {
      "text/plain": [
       "A    1000\n",
       "B    2000\n",
       "C    3000\n",
       "dtype: int64"
      ]
     },
     "execution_count": 29,
     "metadata": {},
     "output_type": "execute_result"
    }
   ],
   "source": [
    "# 시리즈 생성하면서 인덱스도 같이 생성\n",
    "data = [1000, 2000, 3000]\n",
    "index = [\"A\", \"B\", \"C\"]\n",
    "\n",
    "s1 = pd.Series(data, index)\n",
    "s1"
   ]
  },
  {
   "cell_type": "code",
   "execution_count": 30,
   "id": "e19471db-d9cf-4168-9306-839b22039e45",
   "metadata": {},
   "outputs": [
    {
     "data": {
      "text/plain": [
       "(array([1000, 2000, 3000]), numpy.ndarray)"
      ]
     },
     "execution_count": 30,
     "metadata": {},
     "output_type": "execute_result"
    }
   ],
   "source": [
    "s.values, type(s.values)"
   ]
  },
  {
   "cell_type": "markdown",
   "id": "d2c6aa7e-fef9-401e-8679-58dd4e4f46d6",
   "metadata": {
    "editable": true,
    "slideshow": {
     "slide_type": ""
    },
    "tags": []
   },
   "source": [
    "# 시리즈 인덱싱"
   ]
  },
  {
   "cell_type": "code",
   "execution_count": 33,
   "id": "905a6c7a-bbde-46f3-b233-cd3207f4ec92",
   "metadata": {},
   "outputs": [
    {
     "name": "stdout",
     "output_type": "stream",
     "text": [
      "3000\n"
     ]
    }
   ],
   "source": [
    "print(s1.iloc[2])"
   ]
  },
  {
   "cell_type": "code",
   "execution_count": 34,
   "id": "94c2ad6c-d904-4cb3-931f-763fd97b6ba5",
   "metadata": {},
   "outputs": [
    {
     "name": "stdout",
     "output_type": "stream",
     "text": [
      "2000\n"
     ]
    }
   ],
   "source": [
    "print(s1.loc[\"B\"])"
   ]
  },
  {
   "cell_type": "code",
   "execution_count": 36,
   "id": "51b3f00f-51d9-4d7b-a651-83f3477610f6",
   "metadata": {},
   "outputs": [
    {
     "data": {
      "text/plain": [
       "0    1000\n",
       "1    2000\n",
       "2    3000\n",
       "dtype: int64"
      ]
     },
     "execution_count": 36,
     "metadata": {},
     "output_type": "execute_result"
    }
   ],
   "source": [
    "# 시리즈 생성하면서 인덱스도 같이 생성\n",
    "data = [1000, 2000, 3000]\n",
    "# index가 없음\n",
    "s2 = pd.Series(data)\n",
    "print"
   ]
  },
  {
   "cell_type": "code",
   "execution_count": 39,
   "id": "8649e584-8f75-4943-87af-207530c9774f",
   "metadata": {},
   "outputs": [
    {
     "name": "stdout",
     "output_type": "stream",
     "text": [
      "1000\n",
      "1000\n"
     ]
    }
   ],
   "source": [
    "print(s2.iloc[0]) # iloc에서의 0은 위치 0을 의미\n",
    "print(s2.loc[0]) # loc에서의 0은 라벨 0을 의미"
   ]
  },
  {
   "cell_type": "code",
   "execution_count": 40,
   "id": "cd1ca163-1844-40de-ba2c-979e3f83ec77",
   "metadata": {},
   "outputs": [
    {
     "data": {
      "text/plain": [
       "A    1000\n",
       "B    2000\n",
       "C    3000\n",
       "dtype: int64"
      ]
     },
     "execution_count": 40,
     "metadata": {},
     "output_type": "execute_result"
    }
   ],
   "source": [
    "s1"
   ]
  },
  {
   "cell_type": "code",
   "execution_count": 41,
   "id": "d892a36d-aa0c-4d5f-bc28-ce645207dda7",
   "metadata": {},
   "outputs": [
    {
     "data": {
      "text/plain": [
       "0    1000\n",
       "1    2000\n",
       "2    3000\n",
       "dtype: int64"
      ]
     },
     "execution_count": 41,
     "metadata": {},
     "output_type": "execute_result"
    }
   ],
   "source": [
    "s2"
   ]
  },
  {
   "cell_type": "code",
   "execution_count": 47,
   "id": "159808f5-a422-4e94-9a45-6f3743d95869",
   "metadata": {},
   "outputs": [
    {
     "data": {
      "text/plain": [
       "A    1000\n",
       "B    2000\n",
       "dtype: int64"
      ]
     },
     "execution_count": 47,
     "metadata": {},
     "output_type": "execute_result"
    }
   ],
   "source": [
    "s1.iloc[0:2]"
   ]
  },
  {
   "cell_type": "code",
   "execution_count": 48,
   "id": "7fe702fe-df0e-4def-97ad-9301c4742728",
   "metadata": {},
   "outputs": [
    {
     "data": {
      "text/plain": [
       "A    1000\n",
       "B    2000\n",
       "dtype: int64"
      ]
     },
     "execution_count": 48,
     "metadata": {},
     "output_type": "execute_result"
    }
   ],
   "source": [
    "s1.loc[\"A\":\"B\"]"
   ]
  },
  {
   "cell_type": "code",
   "execution_count": 49,
   "id": "2f55610a-841d-4885-b3f9-72760568ac58",
   "metadata": {},
   "outputs": [
    {
     "data": {
      "text/plain": [
       "A    1000\n",
       "B     500\n",
       "C    3000\n",
       "dtype: int64"
      ]
     },
     "execution_count": 49,
     "metadata": {},
     "output_type": "execute_result"
    }
   ],
   "source": [
    "s1[\"B\"] = 500\n",
    "s1"
   ]
  },
  {
   "cell_type": "code",
   "execution_count": 52,
   "id": "d2a49fac-8da7-43ae-a186-1d2a4fd3a551",
   "metadata": {},
   "outputs": [
    {
     "data": {
      "text/plain": [
       "0     500\n",
       "1    2000\n",
       "2    3000\n",
       "dtype: int64"
      ]
     },
     "execution_count": 52,
     "metadata": {},
     "output_type": "execute_result"
    }
   ],
   "source": [
    "s1.iloc[0] = 500\n",
    "s"
   ]
  },
  {
   "cell_type": "markdown",
   "id": "8e92b765-0743-4448-b6eb-a2ebbcbaf3e0",
   "metadata": {},
   "source": [
    "# 시리즈 연산"
   ]
  },
  {
   "cell_type": "code",
   "execution_count": 56,
   "id": "83726372-e603-4bdd-9d96-c180ccbc66e7",
   "metadata": {},
   "outputs": [
    {
     "name": "stdout",
     "output_type": "stream",
     "text": [
      "6/1    650\n",
      "6/2    550\n",
      "6/3    750\n",
      "6/4    800\n",
      "6/5    650\n",
      "dtype: int64\n"
     ]
    }
   ],
   "source": [
    "date = [\"6/1\", \"6/2\", \"6/3\", \"6/4\", \"6/5\"]\n",
    "high = pd.Series([42800, 42700, 42050, 42950, 43000], index=date)\n",
    "low = pd.Series([42150, 42150, 41300, 42150, 42350] , index=date)\n",
    "\n",
    "diff = high - low\n",
    "print(diff)"
   ]
  },
  {
   "cell_type": "code",
   "execution_count": 59,
   "id": "b29c2071-35e2-4139-a9fc-cfff28a0dcb5",
   "metadata": {},
   "outputs": [
    {
     "data": {
      "text/plain": [
       "('6/4', np.int64(800))"
      ]
     },
     "execution_count": 59,
     "metadata": {},
     "output_type": "execute_result"
    }
   ],
   "source": [
    "diff.idxmax(), diff[diff.idxmax()]"
   ]
  },
  {
   "cell_type": "code",
   "execution_count": 62,
   "id": "1cdf3284-1ae2-4155-b83a-75443a70b140",
   "metadata": {},
   "outputs": [
    {
     "data": {
      "text/plain": [
       "('6/2', np.int64(550))"
      ]
     },
     "execution_count": 62,
     "metadata": {},
     "output_type": "execute_result"
    }
   ],
   "source": [
    "diff.idxmin(), diff[diff.idxmin()]"
   ]
  },
  {
   "cell_type": "markdown",
   "id": "44f3fc07-9402-40b9-b359-04e4e61a8f47",
   "metadata": {},
   "source": [
    "## 시리즈아 Map"
   ]
  },
  {
   "cell_type": "code",
   "execution_count": 63,
   "id": "f760e2fa-14b0-4c5e-bc59-ad4a4408047a",
   "metadata": {},
   "outputs": [
    {
     "data": {
      "text/plain": [
       "'1234'"
      ]
     },
     "execution_count": 63,
     "metadata": {},
     "output_type": "execute_result"
    }
   ],
   "source": [
    "text = '1,234'\n",
    "text.replace(',','')"
   ]
  },
  {
   "cell_type": "code",
   "execution_count": 64,
   "id": "0c169d7b-9465-44e3-97b5-b24bfac4e69b",
   "metadata": {},
   "outputs": [
    {
     "data": {
      "text/plain": [
       "1234"
      ]
     },
     "execution_count": 64,
     "metadata": {},
     "output_type": "execute_result"
    }
   ],
   "source": [
    "int(text.replace(',',''))"
   ]
  },
  {
   "cell_type": "code",
   "execution_count": 67,
   "id": "0652e690-c3ac-439e-8edb-8e274a21cdfa",
   "metadata": {},
   "outputs": [
    {
     "data": {
      "text/plain": [
       "[1234, 5678, 12345]"
      ]
     },
     "execution_count": 67,
     "metadata": {},
     "output_type": "execute_result"
    }
   ],
   "source": [
    "num_str = ['1,234', '5,678', '12,345']\n",
    "results = []\n",
    "for num in num_str:\n",
    "    temp = int(num.replace(',',''))\n",
    "    results.append(temp)\n",
    "\n",
    "results"
   ]
  },
  {
   "cell_type": "code",
   "execution_count": 68,
   "id": "e5a66860-5f46-42b6-9e85-5a5d2ec68685",
   "metadata": {},
   "outputs": [],
   "source": [
    "def rm_comma(x):\n",
    "    return int(x.replace(',',''))"
   ]
  },
  {
   "cell_type": "code",
   "execution_count": 69,
   "id": "09b4de91-d3e1-449d-b4a1-f774f00c0bd2",
   "metadata": {},
   "outputs": [
    {
     "data": {
      "text/plain": [
       "0     1234\n",
       "1     5678\n",
       "2    12345\n",
       "dtype: int64"
      ]
     },
     "execution_count": 69,
     "metadata": {},
     "output_type": "execute_result"
    }
   ],
   "source": [
    "s = pd.Series(['1,234', '5,678', '12,345'])\n",
    "result = s.map(rm_comma)\n",
    "result"
   ]
  },
  {
   "cell_type": "markdown",
   "id": "761d909f-242b-450c-b82a-3a5f4c2fd5fd",
   "metadata": {},
   "source": [
    "### 문제\n",
    "- 기준점이 13이상\n",
    "-  + 크다 or 작다"
   ]
  },
  {
   "cell_type": "code",
   "execution_count": 76,
   "id": "65fff9d7-7100-4c75-a257-f3f2629d8216",
   "metadata": {},
   "outputs": [
    {
     "data": {
      "text/plain": [
       "0    작다\n",
       "1    작다\n",
       "2    크다\n",
       "3    크다\n",
       "dtype: object"
      ]
     },
     "execution_count": 76,
     "metadata": {},
     "output_type": "execute_result"
    }
   ],
   "source": [
    "s = pd.Series([5, 10, 15, 20])\n",
    "\n",
    "def measure(x):\n",
    "    if x>=13:\n",
    "        return \"크다\"\n",
    "    else:\n",
    "        return \"작다\"\n",
    "\n",
    "s.map(measure)"
   ]
  },
  {
   "cell_type": "code",
   "execution_count": 72,
   "id": "04ce8abf-9829-4945-b1bc-8d71a3abbbae",
   "metadata": {},
   "outputs": [
    {
     "data": {
      "text/plain": [
       "0    작다\n",
       "1    크다\n",
       "2    작다\n",
       "3    크다\n",
       "4    크다\n",
       "dtype: object"
      ]
     },
     "execution_count": 72,
     "metadata": {},
     "output_type": "execute_result"
    }
   ],
   "source": [
    "def is_greater_13(x): \n",
    "\n",
    "    return_text = None\n",
    "    if x >= 13:\n",
    "        return \"크다\"\n",
    "    else:\n",
    "        return \"작다\" \n",
    "\n",
    "s = pd.Series([10, 15, 7, 20, 13])\n",
    "s.map(is_greater_13)"
   ]
  },
  {
   "cell_type": "code",
   "execution_count": 73,
   "id": "53df43d8-1bdc-4f35-9b6e-958446a5baad",
   "metadata": {},
   "outputs": [
    {
     "name": "stdout",
     "output_type": "stream",
     "text": [
      "0    작다\n",
      "1    크다\n",
      "2    작다\n",
      "3    크다\n",
      "4    크다\n",
      "dtype: object\n"
     ]
    }
   ],
   "source": [
    "result = s.map(lambda x: '크다' if x >=13 else '작다')\n",
    "print(result)"
   ]
  },
  {
   "cell_type": "code",
   "execution_count": 74,
   "id": "53c11570-a7aa-4ddd-8880-7397d0e3c09c",
   "metadata": {},
   "outputs": [
    {
     "name": "stdout",
     "output_type": "stream",
     "text": [
      "0    작다\n",
      "1    크다\n",
      "2    작다\n",
      "3    크다\n",
      "4    크다\n",
      "dtype: object\n"
     ]
    }
   ],
   "source": [
    "result = s.apply(lambda x: '크다' if x >=13 else '작다')\n",
    "print(result)"
   ]
  },
  {
   "cell_type": "markdown",
   "id": "25bf2996-4d36-4346-9196-6ebf99c012c2",
   "metadata": {},
   "source": [
    "## 필터링"
   ]
  },
  {
   "cell_type": "code",
   "execution_count": 79,
   "id": "87450398-4396-4ab3-b9ec-49c0ec529ba0",
   "metadata": {},
   "outputs": [
    {
     "data": {
      "text/plain": [
       "2019-05-31    42500\n",
       "2019-05-30    42550\n",
       "2019-05-29    41800\n",
       "2019-05-28    42550\n",
       "2019-05-27    42650\n",
       "dtype: int64"
      ]
     },
     "execution_count": 79,
     "metadata": {},
     "output_type": "execute_result"
    }
   ],
   "source": [
    "data = [42500, 42550, 41800, 42550, 42650]\n",
    "index = ['2019-05-31', '2019-05-30', '2019-05-29', '2019-05-28', '2019-05-27']\n",
    "s = pd.Series(data=data, index=index)\n",
    "s"
   ]
  },
  {
   "cell_type": "code",
   "execution_count": 80,
   "id": "2c8c9d48-80da-4cdd-bc12-fad1e5f3883a",
   "metadata": {},
   "outputs": [
    {
     "name": "stdout",
     "output_type": "stream",
     "text": [
      "2019-05-31     True\n",
      "2019-05-30     True\n",
      "2019-05-29    False\n",
      "2019-05-28     True\n",
      "2019-05-27     True\n",
      "dtype: bool\n"
     ]
    }
   ],
   "source": [
    "cond = s > 42000\n",
    "print(cond)"
   ]
  },
  {
   "cell_type": "code",
   "execution_count": 81,
   "id": "18212ac3-bcc0-4ced-b354-dc6240b2a2d4",
   "metadata": {},
   "outputs": [
    {
     "data": {
      "text/plain": [
       "2019-05-31    42500\n",
       "2019-05-30    42550\n",
       "2019-05-28    42550\n",
       "2019-05-27    42650\n",
       "dtype: int64"
      ]
     },
     "execution_count": 81,
     "metadata": {},
     "output_type": "execute_result"
    }
   ],
   "source": [
    "s[cond]"
   ]
  },
  {
   "cell_type": "code",
   "execution_count": 92,
   "id": "2aa746b5-a9c0-4fc4-ae15-54a0ece09e34",
   "metadata": {},
   "outputs": [
    {
     "data": {
      "text/plain": [
       "(2019-05-31    42600\n",
       " 2019-05-30    42200\n",
       " 2019-05-29    41850\n",
       " 2019-05-28    42550\n",
       " 2019-05-27    42500\n",
       " dtype: int64,\n",
       " 2019-05-31    42500\n",
       " 2019-05-30    42550\n",
       " 2019-05-29    41800\n",
       " 2019-05-28    42550\n",
       " 2019-05-27    42650\n",
       " dtype: int64)"
      ]
     },
     "execution_count": 92,
     "metadata": {},
     "output_type": "execute_result"
    }
   ],
   "source": [
    "close = [42500, 42550, 41800, 42550, 42650]\n",
    "open = [42600, 42200, 41850, 42550, 42500]\n",
    "index = ['2019-05-31', '2019-05-30', '2019-05-29', '2019-05-28', '2019-05-27']\n",
    "\n",
    "open = pd.Series(data=open, index=index)\n",
    "close = pd.Series(data=close, index=index)\n",
    "\n",
    "open, close"
   ]
  },
  {
   "cell_type": "code",
   "execution_count": 94,
   "id": "ca11252f-43e8-4fca-8ac5-dd57a36eb442",
   "metadata": {},
   "outputs": [
    {
     "data": {
      "text/plain": [
       "2019-05-30    42550\n",
       "2019-05-27    42650\n",
       "dtype: int64"
      ]
     },
     "execution_count": 94,
     "metadata": {},
     "output_type": "execute_result"
    }
   ],
   "source": [
    "close[close > open]"
   ]
  },
  {
   "cell_type": "code",
   "execution_count": null,
   "id": "43fd3d47-f6ad-4fd6-831c-cfa68cdb35dc",
   "metadata": {},
   "outputs": [],
   "source": []
  }
 ],
 "metadata": {
  "kernelspec": {
   "display_name": "Python 3 (ipykernel)",
   "language": "python",
   "name": "python3"
  },
  "language_info": {
   "codemirror_mode": {
    "name": "ipython",
    "version": 3
   },
   "file_extension": ".py",
   "mimetype": "text/x-python",
   "name": "python",
   "nbconvert_exporter": "python",
   "pygments_lexer": "ipython3",
   "version": "3.12.6"
  }
 },
 "nbformat": 4,
 "nbformat_minor": 5
}
